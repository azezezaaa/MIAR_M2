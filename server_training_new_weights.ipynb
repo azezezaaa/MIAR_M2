{
 "cells": [
  {
   "cell_type": "markdown",
   "metadata": {},
   "source": [
    "# Server-side for updating the base_model.\n",
    "In this jupyter notebook, we simulate how the server updates the base model.  \n",
    "The server retrieves encrypted weights from both users User A and User B. The weights are added together and decrypted. The new weights are averaged and used to update the Dense layer weights."
   ]
  },
  {
   "cell_type": "markdown",
   "metadata": {},
   "source": [
    "#### Import Libraries"
   ]
  },
  {
   "cell_type": "code",
   "execution_count": 135,
   "metadata": {},
   "outputs": [],
   "source": [
    "import tensorflow as tf\n",
    "import pandas as pd\n",
    "import matplotlib.pyplot as plt\n",
    "import numpy as np\n",
    "import time\n",
    "import pickle\n",
    "import tenseal as ts\n"
   ]
  },
  {
   "cell_type": "markdown",
   "metadata": {},
   "source": [
    "## Creating server dataset. \n",
    "The server dataset consists of all digits from 0 to 9 from the MNIST dataset. The dataset is split into 3 main parts: Server data, User A data and User B data.  \n",
    "In this section, the server dataset contains the first 20,000 MNIST images and correspoding labels."
   ]
  },
  {
   "cell_type": "code",
   "execution_count": 136,
   "metadata": {},
   "outputs": [
    {
     "name": "stdout",
     "output_type": "stream",
     "text": [
      "Number of original training examples: 60000\n",
      "Number of original test examples: 10000\n"
     ]
    }
   ],
   "source": [
    "(x_train, y_train), (x_test, y_test) = tf.keras.datasets.mnist.load_data()\n",
    "\n",
    "# Rescale the images from [0,255] to the [0.0,1.0] range.\n",
    "x_train, x_test = x_train[..., np.newaxis]/255.0, x_test[..., np.newaxis]/255.0\n",
    "\n",
    "print(\"Number of original training examples:\", len(x_train))\n",
    "print(\"Number of original test examples:\", len(x_test))"
   ]
  },
  {
   "cell_type": "code",
   "execution_count": 137,
   "metadata": {},
   "outputs": [],
   "source": [
    "# Slicing the MNIST original dataset to retain only part of the dataset.\n",
    "x_train = x_train[:20000,:,:]\n",
    "y_train = y_train[:20000]\n",
    "x_test = x_test[:4000,:,:]\n",
    "y_test  = y_test[:4000]"
   ]
  },
  {
   "cell_type": "code",
   "execution_count": 138,
   "metadata": {},
   "outputs": [
    {
     "name": "stdout",
     "output_type": "stream",
     "text": [
      "x_train: 20000\n",
      "y_train: 20000\n",
      "x_test: 4000\n",
      "y_test: 4000\n"
     ]
    }
   ],
   "source": [
    "# Length of the new dataset\n",
    "print(\"x_train:\",len(x_train))\n",
    "print(\"y_train:\",len(y_train))\n",
    "print(\"x_test:\",len(x_test))\n",
    "print(\"y_test:\",len(y_test))"
   ]
  },
  {
   "cell_type": "code",
   "execution_count": 139,
   "metadata": {},
   "outputs": [
    {
     "data": {
      "image/png": "[encoded data removed]",
      "text/plain": [
       "<Figure size 432x288 with 50 Axes>"
      ]
     },
     "metadata": {
      "needs_background": "light"
     },
     "output_type": "display_data"
    }
   ],
   "source": [
    "# Display a sample of the server dataset. \n",
    "digits = {}\n",
    "for i in range(10):\n",
    "    digits[i] = np.where(y_test==i)[0][:5]\n",
    "#print(digits)\n",
    "\n",
    "fig, ax = plt.subplots(10, 5, sharex='col', sharey='row')\n",
    "for i in range(10):\n",
    "    for j in range(5):\n",
    "        ax[i, j].imshow(x_test[digits[i][j]])"
   ]
  },
  {
   "cell_type": "markdown",
   "metadata": {},
   "source": [
    "## CKKS Encryption Scheme\n",
    "In this section, we load the weights, deserialize the weights, decrypt and apply the averaging for the CKKS encryption scheme."
   ]
  },
  {
   "cell_type": "code",
   "execution_count": 140,
   "metadata": {},
   "outputs": [],
   "source": [
    "start_time = time.time()\n",
    "\n",
    "# load : get the context key\n",
    "key_query_file = open('key_query', \"rb\")\n",
    "context_key = pickle.load(key_query_file)\n",
    "key_query_file.close()\n",
    "\n",
    "# recreate the key.\n",
    "context = ts.context_from(context_key[\"context\"])"
   ]
  },
  {
   "cell_type": "code",
   "execution_count": 141,
   "metadata": {},
   "outputs": [],
   "source": [
    "# load : get the data from file\n",
    "bob_weights_file = open('bob_enc', \"rb\")\n",
    "bob_weights = pickle.load(bob_weights_file)\n",
    "bob_weights_file.close()"
   ]
  },
  {
   "cell_type": "code",
   "execution_count": 142,
   "metadata": {},
   "outputs": [],
   "source": [
    "# Recreating the CKKS encrypted tensors from their serialized counterparts.\n",
    "#context = ts.context_from(bob_weights[\"context\"])\n",
    "enc_x1 = ts.ckks_tensor_from(context, bob_weights[\"data1\"])\n",
    "enc_x2 = ts.ckks_tensor_from(context, bob_weights[\"data2\"])"
   ]
  },
  {
   "cell_type": "code",
   "execution_count": 143,
   "metadata": {},
   "outputs": [],
   "source": [
    "# Decrypting the 2 encrypted arrays to form the original weight array.\n",
    "# This is done since protobuf is limited up to 2GB, and the encrpyted array is ~ 2.5GB.\n",
    "denc_x1 = enc_x1.decrypt().tolist()\n",
    "denc_x2 = enc_x2.decrypt().tolist()"
   ]
  },
  {
   "cell_type": "code",
   "execution_count": 144,
   "metadata": {},
   "outputs": [],
   "source": [
    "# Since the encrypyted array was splitted to cater for the 2GB limit, we restore the array to their original shape.\n",
    "denc_x = np.dstack((denc_x1, denc_x2))"
   ]
  },
  {
   "cell_type": "code",
   "execution_count": 145,
   "metadata": {},
   "outputs": [],
   "source": [
    "# load : get the data from file\n",
    "alice_weights_file = open('alice_enc', \"rb\")\n",
    "alice_weights = pickle.load(alice_weights_file)\n",
    "alice_weights_file.close()"
   ]
  },
  {
   "cell_type": "code",
   "execution_count": 146,
   "metadata": {},
   "outputs": [],
   "source": [
    "# Recreating the CKKS encrypted tensors from their serialized counterparts.\n",
    "#context = ts.context_from(alice_weights[\"context\"])\n",
    "enc_y1 = ts.ckks_tensor_from(context, alice_weights[\"data1\"])\n",
    "enc_y2 = ts.ckks_tensor_from(context, alice_weights[\"data2\"])"
   ]
  },
  {
   "cell_type": "code",
   "execution_count": 147,
   "metadata": {},
   "outputs": [],
   "source": [
    "# Decrypting the 2 encrypted arrays to form the original weight array.\n",
    "# This is done since protobuf is limited up to 2GB, and the encrpyted array is ~ 2.5GB.\n",
    "denc_y1 = enc_y1.decrypt().tolist()\n",
    "denc_y2 = enc_y2.decrypt().tolist()"
   ]
  },
  {
   "cell_type": "code",
   "execution_count": 148,
   "metadata": {},
   "outputs": [],
   "source": [
    "# Since the encrypyted array was splitted to cater for the 2GB limit, we restore the array to their original shape.\n",
    "denc_y = np.dstack((denc_y1, denc_y2))"
   ]
  },
  {
   "cell_type": "code",
   "execution_count": 149,
   "metadata": {},
   "outputs": [],
   "source": [
    "# Addition of User A weights to that of User B's.\n",
    "# The masking vector is cancelled out after addition.\n",
    "result = (denc_x + denc_y)"
   ]
  },
  {
   "cell_type": "code",
   "execution_count": 150,
   "metadata": {},
   "outputs": [
    {
     "name": "stdout",
     "output_type": "stream",
     "text": [
      "--- 91.81345176696777 seconds ---\n"
     ]
    }
   ],
   "source": [
    "# Averaging the weights\n",
    "result_avg = result / 2\n",
    "print(\"--- %s seconds ---\" % (time.time() - start_time))\n"
   ]
  },
  {
   "cell_type": "code",
   "execution_count": 151,
   "metadata": {},
   "outputs": [],
   "source": [
    "# For FHE addition, we can add the encrypted weights together from the two users \n",
    "# and obtain nearly the same result.\n",
    "result_1 = enc_x1 + enc_y1\n",
    "result_2 = enc_x2 + enc_y2\n",
    "\n",
    "# Then, we decrypt the result and stack it together since we had to split the original weights\n",
    "# to cater for the protobuf 2GB limit.\n",
    "result_1_dec = result_1.decrypt().tolist()\n",
    "result_2_dec = result_2.decrypt().tolist()\n",
    "result_dec = np.dstack((result_1_dec, result_1_dec))\n",
    "\n",
    "# Averaging the weights\n",
    "result_dec_avg = result_dec / 2"
   ]
  },
  {
   "cell_type": "markdown",
   "metadata": {},
   "source": [
    "### Loading the base_model"
   ]
  },
  {
   "cell_type": "code",
   "execution_count": 152,
   "metadata": {},
   "outputs": [],
   "source": [
    "## Model's architecture.\n",
    "# model_base = tf.keras.models.Sequential([\n",
    "#   tf.keras.layers.Flatten(input_shape=(28, 28)),\n",
    "#   tf.keras.layers.Dense(128, activation='relu', kernel_initializer='glorot_uniform'),\n",
    "#   tf.keras.layers.Dropout(0.2),\n",
    "#   tf.keras.layers.Dense(10, activation='softmax', kernel_initializer='glorot_uniform')\n",
    "# ])\n",
    "\n",
    "# model_base.summary()"
   ]
  },
  {
   "cell_type": "code",
   "execution_count": 153,
   "metadata": {},
   "outputs": [
    {
     "name": "stdout",
     "output_type": "stream",
     "text": [
      "Model: \"sequential\"\n",
      "_________________________________________________________________\n",
      "Layer (type)                 Output Shape              Param #   \n",
      "=================================================================\n",
      "flatten (Flatten)            (None, 784)               0         \n",
      "_________________________________________________________________\n",
      "dense (Dense)                (None, 10)                7840      \n",
      "_________________________________________________________________\n",
      "dropout (Dropout)            (None, 10)                0         \n",
      "_________________________________________________________________\n",
      "dense_1 (Dense)              (None, 10)                100       \n",
      "=================================================================\n",
      "Total params: 7,940\n",
      "Trainable params: 7,940\n",
      "Non-trainable params: 0\n",
      "_________________________________________________________________\n"
     ]
    }
   ],
   "source": [
    "# Loading the base_model.\n",
    "new_model = tf.keras.models.load_model('saved_model/my_model')\n",
    "\n",
    "# Check its architecture\n",
    "new_model.summary()\n"
   ]
  },
  {
   "cell_type": "markdown",
   "metadata": {},
   "source": [
    "### Updating the base_model weights for Dense layer."
   ]
  },
  {
   "cell_type": "markdown",
   "metadata": {},
   "source": [
    "## Loading updated model.\n",
    "In this section, we uload the updated model which have the averaged weights from the server."
   ]
  },
  {
   "cell_type": "code",
   "execution_count": 154,
   "metadata": {},
   "outputs": [],
   "source": [
    "# Replacing the weights with updated weights.\n",
    "new_model.layers[1].set_weights(result_avg)"
   ]
  },
  {
   "cell_type": "code",
   "execution_count": 155,
   "metadata": {},
   "outputs": [],
   "source": [
    "# Compiling the model.\n",
    "new_model.compile(\n",
    "    optimizer=tf.keras.optimizers.Adam(0.001),\n",
    "    loss=tf.keras.losses.SparseCategoricalCrossentropy(from_logits=True),\n",
    "    metrics=[tf.keras.metrics.SparseCategoricalAccuracy()],\n",
    ")"
   ]
  },
  {
   "cell_type": "code",
   "execution_count": 156,
   "metadata": {},
   "outputs": [
    {
     "name": "stdout",
     "output_type": "stream",
     "text": [
      "Epoch 1/100\n"
     ]
    },
    {
     "name": "stderr",
     "output_type": "stream",
     "text": [
      "e:\\UDM\\M2_privacyinAI\\code_final\\venv\\lib\\site-packages\\keras\\backend.py:4906: UserWarning: \"`sparse_categorical_crossentropy` received `from_logits=True`, but the `output` argument was produced by a sigmoid or softmax activation and thus does not represent logits. Was this intended?\"\n",
      "  warnings.warn(\n"
     ]
    },
    {
     "name": "stdout",
     "output_type": "stream",
     "text": [
      "157/157 [==============================] - 1s 3ms/step - loss: 0.6295 - sparse_categorical_accuracy: 0.7841 - val_loss: 0.5546 - val_sparse_categorical_accuracy: 0.8505\n",
      "Epoch 2/100\n",
      "157/157 [==============================] - 0s 2ms/step - loss: 0.5312 - sparse_categorical_accuracy: 0.8148 - val_loss: 0.5117 - val_sparse_categorical_accuracy: 0.8655\n",
      "Epoch 3/100\n",
      "157/157 [==============================] - 0s 2ms/step - loss: 0.5006 - sparse_categorical_accuracy: 0.8238 - val_loss: 0.4997 - val_sparse_categorical_accuracy: 0.8692\n",
      "Epoch 4/100\n",
      "157/157 [==============================] - 0s 2ms/step - loss: 0.4860 - sparse_categorical_accuracy: 0.8270 - val_loss: 0.4780 - val_sparse_categorical_accuracy: 0.8723\n",
      "Epoch 5/100\n",
      "157/157 [==============================] - 0s 2ms/step - loss: 0.4698 - sparse_categorical_accuracy: 0.8328 - val_loss: 0.4663 - val_sparse_categorical_accuracy: 0.8750\n",
      "Epoch 6/100\n",
      "157/157 [==============================] - 0s 2ms/step - loss: 0.4633 - sparse_categorical_accuracy: 0.8368 - val_loss: 0.4610 - val_sparse_categorical_accuracy: 0.8808\n",
      "Epoch 7/100\n",
      "157/157 [==============================] - 0s 2ms/step - loss: 0.4561 - sparse_categorical_accuracy: 0.8393 - val_loss: 0.4580 - val_sparse_categorical_accuracy: 0.8800\n",
      "Epoch 8/100\n",
      "157/157 [==============================] - 0s 2ms/step - loss: 0.4546 - sparse_categorical_accuracy: 0.8371 - val_loss: 0.4597 - val_sparse_categorical_accuracy: 0.8790\n",
      "Epoch 9/100\n",
      "157/157 [==============================] - 0s 2ms/step - loss: 0.4483 - sparse_categorical_accuracy: 0.8411 - val_loss: 0.4575 - val_sparse_categorical_accuracy: 0.8780\n",
      "Epoch 10/100\n",
      "157/157 [==============================] - 0s 2ms/step - loss: 0.4398 - sparse_categorical_accuracy: 0.8454 - val_loss: 0.4536 - val_sparse_categorical_accuracy: 0.8775\n",
      "Epoch 11/100\n",
      "157/157 [==============================] - 0s 2ms/step - loss: 0.4350 - sparse_categorical_accuracy: 0.8468 - val_loss: 0.4547 - val_sparse_categorical_accuracy: 0.8790\n",
      "Epoch 12/100\n",
      "157/157 [==============================] - 0s 2ms/step - loss: 0.4392 - sparse_categorical_accuracy: 0.8418 - val_loss: 0.4550 - val_sparse_categorical_accuracy: 0.8795\n",
      "Epoch 13/100\n",
      "157/157 [==============================] - 0s 2ms/step - loss: 0.4383 - sparse_categorical_accuracy: 0.8452 - val_loss: 0.4522 - val_sparse_categorical_accuracy: 0.8777\n",
      "Epoch 14/100\n",
      "157/157 [==============================] - 0s 2ms/step - loss: 0.4383 - sparse_categorical_accuracy: 0.8450 - val_loss: 0.4513 - val_sparse_categorical_accuracy: 0.8823\n",
      "Epoch 15/100\n",
      "157/157 [==============================] - 0s 2ms/step - loss: 0.4383 - sparse_categorical_accuracy: 0.8431 - val_loss: 0.4529 - val_sparse_categorical_accuracy: 0.8792\n",
      "Epoch 16/100\n",
      "157/157 [==============================] - 0s 2ms/step - loss: 0.4279 - sparse_categorical_accuracy: 0.8475 - val_loss: 0.4534 - val_sparse_categorical_accuracy: 0.8798\n",
      "Epoch 17/100\n",
      "157/157 [==============================] - 0s 2ms/step - loss: 0.4298 - sparse_categorical_accuracy: 0.8474 - val_loss: 0.4461 - val_sparse_categorical_accuracy: 0.8808\n",
      "Epoch 18/100\n",
      "157/157 [==============================] - 0s 2ms/step - loss: 0.4309 - sparse_categorical_accuracy: 0.8461 - val_loss: 0.4542 - val_sparse_categorical_accuracy: 0.8808\n",
      "Epoch 19/100\n",
      "157/157 [==============================] - 0s 2ms/step - loss: 0.4290 - sparse_categorical_accuracy: 0.8443 - val_loss: 0.4541 - val_sparse_categorical_accuracy: 0.8792\n",
      "Epoch 20/100\n",
      "157/157 [==============================] - 0s 2ms/step - loss: 0.4346 - sparse_categorical_accuracy: 0.8455 - val_loss: 0.4495 - val_sparse_categorical_accuracy: 0.8817\n",
      "Epoch 21/100\n",
      "157/157 [==============================] - 0s 2ms/step - loss: 0.4213 - sparse_categorical_accuracy: 0.8485 - val_loss: 0.4552 - val_sparse_categorical_accuracy: 0.8838\n",
      "Epoch 22/100\n",
      "157/157 [==============================] - 0s 2ms/step - loss: 0.4217 - sparse_categorical_accuracy: 0.8475 - val_loss: 0.4529 - val_sparse_categorical_accuracy: 0.8802\n",
      "Epoch 23/100\n",
      "157/157 [==============================] - 0s 2ms/step - loss: 0.4271 - sparse_categorical_accuracy: 0.8482 - val_loss: 0.4588 - val_sparse_categorical_accuracy: 0.8798\n",
      "Epoch 24/100\n",
      "157/157 [==============================] - 0s 2ms/step - loss: 0.4236 - sparse_categorical_accuracy: 0.8482 - val_loss: 0.4532 - val_sparse_categorical_accuracy: 0.8820\n",
      "Epoch 25/100\n",
      "157/157 [==============================] - 0s 2ms/step - loss: 0.4264 - sparse_categorical_accuracy: 0.8500 - val_loss: 0.4553 - val_sparse_categorical_accuracy: 0.8830\n",
      "Epoch 26/100\n",
      "157/157 [==============================] - 0s 2ms/step - loss: 0.4269 - sparse_categorical_accuracy: 0.8491 - val_loss: 0.4523 - val_sparse_categorical_accuracy: 0.8840\n",
      "Epoch 27/100\n",
      "157/157 [==============================] - 0s 2ms/step - loss: 0.4264 - sparse_categorical_accuracy: 0.8486 - val_loss: 0.4575 - val_sparse_categorical_accuracy: 0.8808\n",
      "Epoch 28/100\n",
      "157/157 [==============================] - 0s 2ms/step - loss: 0.4180 - sparse_categorical_accuracy: 0.8498 - val_loss: 0.4615 - val_sparse_categorical_accuracy: 0.8813\n",
      "Epoch 29/100\n",
      "157/157 [==============================] - 0s 2ms/step - loss: 0.4197 - sparse_categorical_accuracy: 0.8493 - val_loss: 0.4572 - val_sparse_categorical_accuracy: 0.8798\n",
      "Epoch 30/100\n",
      "157/157 [==============================] - 0s 2ms/step - loss: 0.4142 - sparse_categorical_accuracy: 0.8534 - val_loss: 0.4514 - val_sparse_categorical_accuracy: 0.8820\n",
      "Epoch 31/100\n",
      "157/157 [==============================] - 0s 2ms/step - loss: 0.4198 - sparse_categorical_accuracy: 0.8487 - val_loss: 0.4604 - val_sparse_categorical_accuracy: 0.8808\n",
      "Epoch 32/100\n",
      "157/157 [==============================] - 0s 2ms/step - loss: 0.4169 - sparse_categorical_accuracy: 0.8540 - val_loss: 0.4612 - val_sparse_categorical_accuracy: 0.8805\n",
      "Epoch 33/100\n",
      "157/157 [==============================] - 0s 2ms/step - loss: 0.4192 - sparse_categorical_accuracy: 0.8504 - val_loss: 0.4697 - val_sparse_categorical_accuracy: 0.8770\n",
      "Epoch 34/100\n",
      "157/157 [==============================] - 0s 2ms/step - loss: 0.4125 - sparse_categorical_accuracy: 0.8507 - val_loss: 0.4530 - val_sparse_categorical_accuracy: 0.8855\n",
      "Epoch 35/100\n",
      "157/157 [==============================] - 0s 2ms/step - loss: 0.4136 - sparse_categorical_accuracy: 0.8516 - val_loss: 0.4563 - val_sparse_categorical_accuracy: 0.8820\n",
      "Epoch 36/100\n",
      "157/157 [==============================] - 0s 2ms/step - loss: 0.4207 - sparse_categorical_accuracy: 0.8504 - val_loss: 0.4583 - val_sparse_categorical_accuracy: 0.8813\n",
      "Epoch 37/100\n",
      "157/157 [==============================] - 0s 2ms/step - loss: 0.4174 - sparse_categorical_accuracy: 0.8518 - val_loss: 0.4627 - val_sparse_categorical_accuracy: 0.8810\n",
      "Epoch 38/100\n",
      "157/157 [==============================] - 0s 2ms/step - loss: 0.4164 - sparse_categorical_accuracy: 0.8492 - val_loss: 0.4581 - val_sparse_categorical_accuracy: 0.8842\n",
      "Epoch 39/100\n",
      "157/157 [==============================] - 0s 2ms/step - loss: 0.4147 - sparse_categorical_accuracy: 0.8522 - val_loss: 0.4634 - val_sparse_categorical_accuracy: 0.8792\n",
      "Epoch 40/100\n",
      "157/157 [==============================] - 0s 2ms/step - loss: 0.4180 - sparse_categorical_accuracy: 0.8503 - val_loss: 0.4636 - val_sparse_categorical_accuracy: 0.8827\n",
      "Epoch 41/100\n",
      "157/157 [==============================] - 0s 2ms/step - loss: 0.4253 - sparse_categorical_accuracy: 0.8490 - val_loss: 0.4637 - val_sparse_categorical_accuracy: 0.8815\n",
      "Epoch 42/100\n",
      "157/157 [==============================] - 0s 2ms/step - loss: 0.4124 - sparse_categorical_accuracy: 0.8508 - val_loss: 0.4580 - val_sparse_categorical_accuracy: 0.8863\n",
      "Epoch 43/100\n",
      "157/157 [==============================] - 0s 2ms/step - loss: 0.4129 - sparse_categorical_accuracy: 0.8515 - val_loss: 0.4622 - val_sparse_categorical_accuracy: 0.8805\n",
      "Epoch 44/100\n",
      "157/157 [==============================] - 0s 2ms/step - loss: 0.4113 - sparse_categorical_accuracy: 0.8535 - val_loss: 0.4703 - val_sparse_categorical_accuracy: 0.8815\n",
      "Epoch 45/100\n",
      "157/157 [==============================] - 0s 2ms/step - loss: 0.4100 - sparse_categorical_accuracy: 0.8533 - val_loss: 0.4611 - val_sparse_categorical_accuracy: 0.8798\n",
      "Epoch 46/100\n",
      "157/157 [==============================] - 0s 2ms/step - loss: 0.4148 - sparse_categorical_accuracy: 0.8519 - val_loss: 0.4696 - val_sparse_categorical_accuracy: 0.8805\n",
      "Epoch 47/100\n",
      "157/157 [==============================] - 0s 2ms/step - loss: 0.4138 - sparse_categorical_accuracy: 0.8512 - val_loss: 0.4741 - val_sparse_categorical_accuracy: 0.8798\n",
      "Epoch 48/100\n",
      "157/157 [==============================] - 0s 2ms/step - loss: 0.4160 - sparse_categorical_accuracy: 0.8527 - val_loss: 0.4695 - val_sparse_categorical_accuracy: 0.8790\n",
      "Epoch 49/100\n",
      "157/157 [==============================] - 0s 2ms/step - loss: 0.4120 - sparse_categorical_accuracy: 0.8547 - val_loss: 0.4635 - val_sparse_categorical_accuracy: 0.8827\n",
      "Epoch 50/100\n",
      "157/157 [==============================] - 0s 2ms/step - loss: 0.4151 - sparse_categorical_accuracy: 0.8524 - val_loss: 0.4677 - val_sparse_categorical_accuracy: 0.8808\n",
      "Epoch 51/100\n",
      "157/157 [==============================] - 0s 2ms/step - loss: 0.4141 - sparse_categorical_accuracy: 0.8525 - val_loss: 0.4667 - val_sparse_categorical_accuracy: 0.8790\n",
      "Epoch 52/100\n",
      "157/157 [==============================] - 0s 2ms/step - loss: 0.4134 - sparse_categorical_accuracy: 0.8515 - val_loss: 0.4640 - val_sparse_categorical_accuracy: 0.8823\n",
      "Epoch 53/100\n",
      "157/157 [==============================] - 0s 2ms/step - loss: 0.4104 - sparse_categorical_accuracy: 0.8510 - val_loss: 0.4631 - val_sparse_categorical_accuracy: 0.8848\n",
      "Epoch 54/100\n",
      "157/157 [==============================] - 0s 2ms/step - loss: 0.4098 - sparse_categorical_accuracy: 0.8535 - val_loss: 0.4685 - val_sparse_categorical_accuracy: 0.8802\n",
      "Epoch 55/100\n",
      "157/157 [==============================] - 0s 2ms/step - loss: 0.4073 - sparse_categorical_accuracy: 0.8527 - val_loss: 0.4680 - val_sparse_categorical_accuracy: 0.8823\n",
      "Epoch 56/100\n",
      "157/157 [==============================] - 0s 2ms/step - loss: 0.4120 - sparse_categorical_accuracy: 0.8511 - val_loss: 0.4673 - val_sparse_categorical_accuracy: 0.8830\n",
      "Epoch 57/100\n",
      "157/157 [==============================] - 0s 2ms/step - loss: 0.4056 - sparse_categorical_accuracy: 0.8546 - val_loss: 0.4717 - val_sparse_categorical_accuracy: 0.8813\n",
      "Epoch 58/100\n",
      "157/157 [==============================] - 0s 2ms/step - loss: 0.4067 - sparse_categorical_accuracy: 0.8540 - val_loss: 0.4785 - val_sparse_categorical_accuracy: 0.8813\n",
      "Epoch 59/100\n",
      "157/157 [==============================] - 0s 2ms/step - loss: 0.4196 - sparse_categorical_accuracy: 0.8505 - val_loss: 0.4789 - val_sparse_categorical_accuracy: 0.8805\n",
      "Epoch 60/100\n",
      "157/157 [==============================] - 0s 2ms/step - loss: 0.4118 - sparse_categorical_accuracy: 0.8529 - val_loss: 0.4779 - val_sparse_categorical_accuracy: 0.8790\n",
      "Epoch 61/100\n",
      "157/157 [==============================] - 0s 2ms/step - loss: 0.4096 - sparse_categorical_accuracy: 0.8523 - val_loss: 0.4774 - val_sparse_categorical_accuracy: 0.8808\n",
      "Epoch 62/100\n",
      "157/157 [==============================] - 0s 2ms/step - loss: 0.4160 - sparse_categorical_accuracy: 0.8499 - val_loss: 0.4744 - val_sparse_categorical_accuracy: 0.8830\n",
      "Epoch 63/100\n",
      "157/157 [==============================] - 0s 2ms/step - loss: 0.4145 - sparse_categorical_accuracy: 0.8540 - val_loss: 0.4770 - val_sparse_categorical_accuracy: 0.8785\n",
      "Epoch 64/100\n",
      "157/157 [==============================] - 0s 2ms/step - loss: 0.4082 - sparse_categorical_accuracy: 0.8546 - val_loss: 0.4708 - val_sparse_categorical_accuracy: 0.8785\n",
      "Epoch 65/100\n",
      "157/157 [==============================] - 0s 2ms/step - loss: 0.4121 - sparse_categorical_accuracy: 0.8515 - val_loss: 0.4741 - val_sparse_categorical_accuracy: 0.8810\n",
      "Epoch 66/100\n",
      "157/157 [==============================] - 0s 2ms/step - loss: 0.4133 - sparse_categorical_accuracy: 0.8529 - val_loss: 0.4779 - val_sparse_categorical_accuracy: 0.8820\n",
      "Epoch 67/100\n",
      "157/157 [==============================] - 0s 2ms/step - loss: 0.4078 - sparse_categorical_accuracy: 0.8551 - val_loss: 0.4779 - val_sparse_categorical_accuracy: 0.8820\n",
      "Epoch 68/100\n",
      "157/157 [==============================] - 0s 2ms/step - loss: 0.4142 - sparse_categorical_accuracy: 0.8503 - val_loss: 0.4721 - val_sparse_categorical_accuracy: 0.8798\n",
      "Epoch 69/100\n",
      "157/157 [==============================] - 0s 2ms/step - loss: 0.4125 - sparse_categorical_accuracy: 0.8503 - val_loss: 0.4756 - val_sparse_categorical_accuracy: 0.8813\n",
      "Epoch 70/100\n",
      "157/157 [==============================] - 0s 2ms/step - loss: 0.4144 - sparse_categorical_accuracy: 0.8510 - val_loss: 0.4796 - val_sparse_categorical_accuracy: 0.8792\n",
      "Epoch 71/100\n",
      "157/157 [==============================] - 0s 2ms/step - loss: 0.4039 - sparse_categorical_accuracy: 0.8531 - val_loss: 0.4817 - val_sparse_categorical_accuracy: 0.8800\n",
      "Epoch 72/100\n",
      "157/157 [==============================] - 0s 2ms/step - loss: 0.4098 - sparse_categorical_accuracy: 0.8543 - val_loss: 0.4802 - val_sparse_categorical_accuracy: 0.8773\n",
      "Epoch 73/100\n",
      "157/157 [==============================] - 0s 2ms/step - loss: 0.3992 - sparse_categorical_accuracy: 0.8550 - val_loss: 0.4876 - val_sparse_categorical_accuracy: 0.8780\n",
      "Epoch 74/100\n",
      "157/157 [==============================] - 0s 2ms/step - loss: 0.4042 - sparse_categorical_accuracy: 0.8532 - val_loss: 0.4816 - val_sparse_categorical_accuracy: 0.8783\n",
      "Epoch 75/100\n",
      "157/157 [==============================] - 0s 2ms/step - loss: 0.4122 - sparse_categorical_accuracy: 0.8580 - val_loss: 0.4890 - val_sparse_categorical_accuracy: 0.8798\n",
      "Epoch 76/100\n",
      "157/157 [==============================] - 0s 2ms/step - loss: 0.4125 - sparse_categorical_accuracy: 0.8518 - val_loss: 0.4935 - val_sparse_categorical_accuracy: 0.8780\n",
      "Epoch 77/100\n",
      "157/157 [==============================] - 0s 2ms/step - loss: 0.4149 - sparse_categorical_accuracy: 0.8497 - val_loss: 0.4899 - val_sparse_categorical_accuracy: 0.8792\n",
      "Epoch 78/100\n",
      "157/157 [==============================] - 0s 2ms/step - loss: 0.4055 - sparse_categorical_accuracy: 0.8551 - val_loss: 0.4850 - val_sparse_categorical_accuracy: 0.8810\n",
      "Epoch 79/100\n",
      "157/157 [==============================] - 0s 2ms/step - loss: 0.4083 - sparse_categorical_accuracy: 0.8532 - val_loss: 0.4893 - val_sparse_categorical_accuracy: 0.8767\n",
      "Epoch 80/100\n",
      "157/157 [==============================] - 0s 2ms/step - loss: 0.4105 - sparse_categorical_accuracy: 0.8526 - val_loss: 0.4856 - val_sparse_categorical_accuracy: 0.8795\n",
      "Epoch 81/100\n",
      "157/157 [==============================] - 0s 2ms/step - loss: 0.4033 - sparse_categorical_accuracy: 0.8580 - val_loss: 0.4822 - val_sparse_categorical_accuracy: 0.8783\n",
      "Epoch 82/100\n",
      "157/157 [==============================] - 0s 2ms/step - loss: 0.4168 - sparse_categorical_accuracy: 0.8490 - val_loss: 0.4936 - val_sparse_categorical_accuracy: 0.8770\n",
      "Epoch 83/100\n",
      "157/157 [==============================] - 0s 2ms/step - loss: 0.4041 - sparse_categorical_accuracy: 0.8547 - val_loss: 0.4871 - val_sparse_categorical_accuracy: 0.8790\n",
      "Epoch 84/100\n",
      "157/157 [==============================] - 0s 2ms/step - loss: 0.4107 - sparse_categorical_accuracy: 0.8480 - val_loss: 0.4908 - val_sparse_categorical_accuracy: 0.8785\n",
      "Epoch 85/100\n",
      "157/157 [==============================] - 0s 2ms/step - loss: 0.3957 - sparse_categorical_accuracy: 0.8540 - val_loss: 0.5011 - val_sparse_categorical_accuracy: 0.8770\n",
      "Epoch 86/100\n",
      "157/157 [==============================] - 0s 2ms/step - loss: 0.4040 - sparse_categorical_accuracy: 0.8563 - val_loss: 0.4872 - val_sparse_categorical_accuracy: 0.8767\n",
      "Epoch 87/100\n",
      "157/157 [==============================] - 0s 2ms/step - loss: 0.4055 - sparse_categorical_accuracy: 0.8562 - val_loss: 0.4890 - val_sparse_categorical_accuracy: 0.8798\n",
      "Epoch 88/100\n",
      "157/157 [==============================] - 0s 2ms/step - loss: 0.4053 - sparse_categorical_accuracy: 0.8539 - val_loss: 0.4889 - val_sparse_categorical_accuracy: 0.8785\n",
      "Epoch 89/100\n",
      "157/157 [==============================] - 0s 2ms/step - loss: 0.4111 - sparse_categorical_accuracy: 0.8526 - val_loss: 0.4940 - val_sparse_categorical_accuracy: 0.8805\n",
      "Epoch 90/100\n",
      "157/157 [==============================] - 0s 2ms/step - loss: 0.4110 - sparse_categorical_accuracy: 0.8515 - val_loss: 0.4882 - val_sparse_categorical_accuracy: 0.8817\n",
      "Epoch 91/100\n",
      "157/157 [==============================] - 0s 2ms/step - loss: 0.4063 - sparse_categorical_accuracy: 0.8542 - val_loss: 0.4896 - val_sparse_categorical_accuracy: 0.8783\n",
      "Epoch 92/100\n",
      "157/157 [==============================] - 0s 2ms/step - loss: 0.4076 - sparse_categorical_accuracy: 0.8521 - val_loss: 0.4950 - val_sparse_categorical_accuracy: 0.8802\n",
      "Epoch 93/100\n",
      "157/157 [==============================] - 0s 2ms/step - loss: 0.4052 - sparse_categorical_accuracy: 0.8543 - val_loss: 0.4912 - val_sparse_categorical_accuracy: 0.8763\n",
      "Epoch 94/100\n",
      "157/157 [==============================] - 0s 2ms/step - loss: 0.4041 - sparse_categorical_accuracy: 0.8526 - val_loss: 0.5002 - val_sparse_categorical_accuracy: 0.8783\n",
      "Epoch 95/100\n",
      "157/157 [==============================] - 0s 2ms/step - loss: 0.4001 - sparse_categorical_accuracy: 0.8538 - val_loss: 0.4887 - val_sparse_categorical_accuracy: 0.8805\n",
      "Epoch 96/100\n",
      "157/157 [==============================] - 0s 2ms/step - loss: 0.3997 - sparse_categorical_accuracy: 0.8554 - val_loss: 0.4977 - val_sparse_categorical_accuracy: 0.8775\n",
      "Epoch 97/100\n",
      "157/157 [==============================] - 0s 2ms/step - loss: 0.4081 - sparse_categorical_accuracy: 0.8559 - val_loss: 0.4989 - val_sparse_categorical_accuracy: 0.8792\n",
      "Epoch 98/100\n",
      "157/157 [==============================] - 0s 2ms/step - loss: 0.3972 - sparse_categorical_accuracy: 0.8584 - val_loss: 0.4966 - val_sparse_categorical_accuracy: 0.8765\n",
      "Epoch 99/100\n",
      "157/157 [==============================] - 0s 2ms/step - loss: 0.4101 - sparse_categorical_accuracy: 0.8534 - val_loss: 0.5022 - val_sparse_categorical_accuracy: 0.8755\n",
      "Epoch 100/100\n",
      "157/157 [==============================] - 0s 2ms/step - loss: 0.4003 - sparse_categorical_accuracy: 0.8557 - val_loss: 0.5053 - val_sparse_categorical_accuracy: 0.8748\n"
     ]
    },
    {
     "data": {
      "text/plain": [
       "<keras.callbacks.History at 0x2e3c4e89460>"
      ]
     },
     "execution_count": 156,
     "metadata": {},
     "output_type": "execute_result"
    }
   ],
   "source": [
    "# Training the updated_model.\n",
    "new_model.fit(x_train,\n",
    "          y_train,\n",
    "          batch_size=128,\n",
    "          epochs=100,\n",
    "          verbose=1,\n",
    "          validation_data=(x_test, y_test))"
   ]
  },
  {
   "cell_type": "code",
   "execution_count": 157,
   "metadata": {},
   "outputs": [
    {
     "name": "stdout",
     "output_type": "stream",
     "text": [
      "INFO:tensorflow:Assets written to: saved_model/updated_model\\assets\n"
     ]
    }
   ],
   "source": [
    "# Saving the updated_model\n",
    "new_model.save('saved_model/updated_model')"
   ]
  },
  {
   "cell_type": "markdown",
   "metadata": {},
   "source": [
    "### Predictions on the base_model"
   ]
  },
  {
   "cell_type": "code",
   "execution_count": 158,
   "metadata": {},
   "outputs": [
    {
     "name": "stdout",
     "output_type": "stream",
     "text": [
      "7\n"
     ]
    },
    {
     "data": {
      "image/png": "[encoded data removed]",
      "text/plain": [
       "<Figure size 432x288 with 1 Axes>"
      ]
     },
     "metadata": {
      "needs_background": "light"
     },
     "output_type": "display_data"
    }
   ],
   "source": [
    "predictions = new_model.predict(x_test)\n",
    "print(np.argmax(predictions[0]))\n",
    "plt.imshow(x_test[0])\n",
    "plt.show()"
   ]
  },
  {
   "cell_type": "markdown",
   "metadata": {},
   "source": [
    "### Accuracy of the base_model"
   ]
  },
  {
   "cell_type": "code",
   "execution_count": 159,
   "metadata": {},
   "outputs": [
    {
     "name": "stdout",
     "output_type": "stream",
     "text": [
      "--- 162.85454487800598 seconds ---\n"
     ]
    }
   ],
   "source": [
    "# Creating a multiclass confusion matrix before training.\n",
    "from sklearn.metrics import confusion_matrix\n",
    "confusion = confusion_matrix(y_test, np.argmax(predictions,axis=1))\n",
    "confusion\n",
    "print(\"--- %s seconds ---\" % (time.time() - start_time))"
   ]
  },
  {
   "cell_type": "markdown",
   "metadata": {},
   "source": [
    "## Gentry's Encryption Scheme\n",
    "In this section, we load the weights, deserialize the weights, decrypt and apply the averaging for the Gentry's encryption scheme."
   ]
  },
  {
   "cell_type": "code",
   "execution_count": 160,
   "metadata": {},
   "outputs": [],
   "source": [
    "start_time = time.time()\n",
    "# Initial Parameters\n",
    "r = 3\n",
    "p = 29\n",
    "q = 22"
   ]
  },
  {
   "cell_type": "code",
   "execution_count": 161,
   "metadata": {},
   "outputs": [],
   "source": [
    "# load : get the data from file\n",
    "bob_weights_file = open('bob_enc_gentry', \"rb\")\n",
    "bob_weights_dict = pickle.load(bob_weights_file)\n",
    "bob_weights_file.close()\n",
    "\n",
    "# Load Bob's weights\n",
    "bob_weights = bob_weights_dict[\"data1\"]"
   ]
  },
  {
   "cell_type": "code",
   "execution_count": 162,
   "metadata": {},
   "outputs": [],
   "source": [
    "# load : get the data from file\n",
    "alice_weights_file = open('Alice_enc_gentry', \"rb\")\n",
    "alice_weights_dict = pickle.load(alice_weights_file)\n",
    "alice_weights_file.close()\n",
    "\n",
    "# Load Alice's weights\n",
    "alice_weights = alice_weights_dict[\"data1\"]"
   ]
  },
  {
   "cell_type": "code",
   "execution_count": 163,
   "metadata": {},
   "outputs": [],
   "source": [
    "# Adding both encrypted mask w/ weights.\n",
    "total = np.add(bob_weights, alice_weights)\n",
    "\n",
    "total_decrypt = [((z % p) % 2) for z in total]\n",
    "\n",
    "# Check shape of weights first.\n",
    "for x in total_decrypt:\n",
    "    for y in range(784):\n",
    "        for z in range(10):\n",
    "            #print(total_decrypt[0][y][z])\n",
    "            if total_decrypt[0][y][z] > 1:\n",
    "                total_decrypt[0][y][z] = total_decrypt[0][y][z] - 2\n",
    "\n",
    "\n",
    "#print(\"--- %s seconds ---\" % (time.time() - start_time))\n"
   ]
  },
  {
   "cell_type": "code",
   "execution_count": 164,
   "metadata": {},
   "outputs": [],
   "source": [
    "# Average the weights.\n",
    "total_decrypt = np.divide(total_decrypt, 2)"
   ]
  },
  {
   "cell_type": "markdown",
   "metadata": {},
   "source": [
    "### Loading the base_model"
   ]
  },
  {
   "cell_type": "code",
   "execution_count": 165,
   "metadata": {},
   "outputs": [],
   "source": [
    "## Model's architecture.\n",
    "# model_base = tf.keras.models.Sequential([\n",
    "#   tf.keras.layers.Flatten(input_shape=(28, 28)),\n",
    "#   tf.keras.layers.Dense(128, activation='relu', kernel_initializer='glorot_uniform'),\n",
    "#   tf.keras.layers.Dropout(0.2),\n",
    "#   tf.keras.layers.Dense(10, activation='softmax', kernel_initializer='glorot_uniform')\n",
    "# ])\n",
    "\n",
    "# model_base.summary()"
   ]
  },
  {
   "cell_type": "code",
   "execution_count": 166,
   "metadata": {},
   "outputs": [
    {
     "name": "stdout",
     "output_type": "stream",
     "text": [
      "Model: \"sequential\"\n",
      "_________________________________________________________________\n",
      "Layer (type)                 Output Shape              Param #   \n",
      "=================================================================\n",
      "flatten (Flatten)            (None, 784)               0         \n",
      "_________________________________________________________________\n",
      "dense (Dense)                (None, 10)                7840      \n",
      "_________________________________________________________________\n",
      "dropout (Dropout)            (None, 10)                0         \n",
      "_________________________________________________________________\n",
      "dense_1 (Dense)              (None, 10)                100       \n",
      "=================================================================\n",
      "Total params: 7,940\n",
      "Trainable params: 7,940\n",
      "Non-trainable params: 0\n",
      "_________________________________________________________________\n"
     ]
    }
   ],
   "source": [
    "# Loading the base_model.\n",
    "new_model = tf.keras.models.load_model('saved_model/my_model')\n",
    "\n",
    "# Check its architecture\n",
    "new_model.summary()\n"
   ]
  },
  {
   "cell_type": "markdown",
   "metadata": {},
   "source": [
    "### Updating the base_model weights for Dense layer."
   ]
  },
  {
   "cell_type": "code",
   "execution_count": 167,
   "metadata": {},
   "outputs": [],
   "source": [
    "# Replacing the weights with updated weights.\n",
    "new_model.layers[1].set_weights(total_decrypt)"
   ]
  },
  {
   "cell_type": "code",
   "execution_count": 168,
   "metadata": {},
   "outputs": [],
   "source": [
    "# Compiling the model.\n",
    "new_model.compile(\n",
    "    optimizer=tf.keras.optimizers.Adam(0.001),\n",
    "    loss=tf.keras.losses.SparseCategoricalCrossentropy(from_logits=True),\n",
    "    metrics=[tf.keras.metrics.SparseCategoricalAccuracy()],\n",
    ")"
   ]
  },
  {
   "cell_type": "code",
   "execution_count": 169,
   "metadata": {},
   "outputs": [
    {
     "name": "stdout",
     "output_type": "stream",
     "text": [
      "Epoch 1/100\n",
      "  1/157 [..............................] - ETA: 29s - loss: 8.2570 - sparse_categorical_accuracy: 0.3281"
     ]
    },
    {
     "name": "stderr",
     "output_type": "stream",
     "text": [
      "e:\\UDM\\M2_privacyinAI\\code_final\\venv\\lib\\site-packages\\keras\\backend.py:4906: UserWarning: \"`sparse_categorical_crossentropy` received `from_logits=True`, but the `output` argument was produced by a sigmoid or softmax activation and thus does not represent logits. Was this intended?\"\n",
      "  warnings.warn(\n"
     ]
    },
    {
     "name": "stdout",
     "output_type": "stream",
     "text": [
      "157/157 [==============================] - 1s 3ms/step - loss: 2.0705 - sparse_categorical_accuracy: 0.5454 - val_loss: 0.9839 - val_sparse_categorical_accuracy: 0.6827\n",
      "Epoch 2/100\n",
      "157/157 [==============================] - 0s 2ms/step - loss: 0.9736 - sparse_categorical_accuracy: 0.6673 - val_loss: 0.7709 - val_sparse_categorical_accuracy: 0.7555\n",
      "Epoch 3/100\n",
      "157/157 [==============================] - 0s 2ms/step - loss: 0.8191 - sparse_categorical_accuracy: 0.7207 - val_loss: 0.6759 - val_sparse_categorical_accuracy: 0.7945\n",
      "Epoch 4/100\n",
      "157/157 [==============================] - 0s 2ms/step - loss: 0.7437 - sparse_categorical_accuracy: 0.7430 - val_loss: 0.6168 - val_sparse_categorical_accuracy: 0.8130\n",
      "Epoch 5/100\n",
      "157/157 [==============================] - 0s 2ms/step - loss: 0.7056 - sparse_categorical_accuracy: 0.7621 - val_loss: 0.5690 - val_sparse_categorical_accuracy: 0.8270\n",
      "Epoch 6/100\n",
      "157/157 [==============================] - 0s 2ms/step - loss: 0.6748 - sparse_categorical_accuracy: 0.7711 - val_loss: 0.5510 - val_sparse_categorical_accuracy: 0.8340\n",
      "Epoch 7/100\n",
      "157/157 [==============================] - 0s 2ms/step - loss: 0.6383 - sparse_categorical_accuracy: 0.7812 - val_loss: 0.5326 - val_sparse_categorical_accuracy: 0.8438\n",
      "Epoch 8/100\n",
      "157/157 [==============================] - 0s 2ms/step - loss: 0.6174 - sparse_categorical_accuracy: 0.7886 - val_loss: 0.5100 - val_sparse_categorical_accuracy: 0.8495\n",
      "Epoch 9/100\n",
      "157/157 [==============================] - 0s 2ms/step - loss: 0.6046 - sparse_categorical_accuracy: 0.7915 - val_loss: 0.4918 - val_sparse_categorical_accuracy: 0.8585\n",
      "Epoch 10/100\n",
      "157/157 [==============================] - 0s 2ms/step - loss: 0.5911 - sparse_categorical_accuracy: 0.7955 - val_loss: 0.4819 - val_sparse_categorical_accuracy: 0.8550\n",
      "Epoch 11/100\n",
      "157/157 [==============================] - 0s 2ms/step - loss: 0.5735 - sparse_categorical_accuracy: 0.7991 - val_loss: 0.4747 - val_sparse_categorical_accuracy: 0.8595\n",
      "Epoch 12/100\n",
      "157/157 [==============================] - 0s 2ms/step - loss: 0.5645 - sparse_categorical_accuracy: 0.8067 - val_loss: 0.4740 - val_sparse_categorical_accuracy: 0.8610\n",
      "Epoch 13/100\n",
      "157/157 [==============================] - 0s 2ms/step - loss: 0.5530 - sparse_categorical_accuracy: 0.8096 - val_loss: 0.4604 - val_sparse_categorical_accuracy: 0.8640\n",
      "Epoch 14/100\n",
      "157/157 [==============================] - 0s 2ms/step - loss: 0.5384 - sparse_categorical_accuracy: 0.8116 - val_loss: 0.4575 - val_sparse_categorical_accuracy: 0.8660\n",
      "Epoch 15/100\n",
      "157/157 [==============================] - 0s 2ms/step - loss: 0.5414 - sparse_categorical_accuracy: 0.8115 - val_loss: 0.4561 - val_sparse_categorical_accuracy: 0.8650\n",
      "Epoch 16/100\n",
      "157/157 [==============================] - 0s 2ms/step - loss: 0.5312 - sparse_categorical_accuracy: 0.8115 - val_loss: 0.4527 - val_sparse_categorical_accuracy: 0.8708\n",
      "Epoch 17/100\n",
      "157/157 [==============================] - 0s 2ms/step - loss: 0.5263 - sparse_categorical_accuracy: 0.8177 - val_loss: 0.4422 - val_sparse_categorical_accuracy: 0.8695\n",
      "Epoch 18/100\n",
      "157/157 [==============================] - 0s 2ms/step - loss: 0.5247 - sparse_categorical_accuracy: 0.8160 - val_loss: 0.4428 - val_sparse_categorical_accuracy: 0.8683\n",
      "Epoch 19/100\n",
      "157/157 [==============================] - 0s 2ms/step - loss: 0.5112 - sparse_categorical_accuracy: 0.8216 - val_loss: 0.4391 - val_sparse_categorical_accuracy: 0.8698\n",
      "Epoch 20/100\n",
      "157/157 [==============================] - 0s 2ms/step - loss: 0.5053 - sparse_categorical_accuracy: 0.8235 - val_loss: 0.4458 - val_sparse_categorical_accuracy: 0.8698\n",
      "Epoch 21/100\n",
      "157/157 [==============================] - 0s 2ms/step - loss: 0.5075 - sparse_categorical_accuracy: 0.8237 - val_loss: 0.4424 - val_sparse_categorical_accuracy: 0.8687\n",
      "Epoch 22/100\n",
      "157/157 [==============================] - 0s 2ms/step - loss: 0.5034 - sparse_categorical_accuracy: 0.8233 - val_loss: 0.4372 - val_sparse_categorical_accuracy: 0.8695\n",
      "Epoch 23/100\n",
      "157/157 [==============================] - 0s 2ms/step - loss: 0.4949 - sparse_categorical_accuracy: 0.8270 - val_loss: 0.4359 - val_sparse_categorical_accuracy: 0.8730\n",
      "Epoch 24/100\n",
      "157/157 [==============================] - 0s 2ms/step - loss: 0.4914 - sparse_categorical_accuracy: 0.8289 - val_loss: 0.4280 - val_sparse_categorical_accuracy: 0.8740\n",
      "Epoch 25/100\n",
      "157/157 [==============================] - 0s 2ms/step - loss: 0.4961 - sparse_categorical_accuracy: 0.8247 - val_loss: 0.4335 - val_sparse_categorical_accuracy: 0.8723\n",
      "Epoch 26/100\n",
      "157/157 [==============================] - 0s 2ms/step - loss: 0.4886 - sparse_categorical_accuracy: 0.8268 - val_loss: 0.4327 - val_sparse_categorical_accuracy: 0.8715\n",
      "Epoch 27/100\n",
      "157/157 [==============================] - 0s 2ms/step - loss: 0.4926 - sparse_categorical_accuracy: 0.8240 - val_loss: 0.4344 - val_sparse_categorical_accuracy: 0.8735\n",
      "Epoch 28/100\n",
      "157/157 [==============================] - 0s 2ms/step - loss: 0.4902 - sparse_categorical_accuracy: 0.8289 - val_loss: 0.4305 - val_sparse_categorical_accuracy: 0.8742\n",
      "Epoch 29/100\n",
      "157/157 [==============================] - 0s 2ms/step - loss: 0.4865 - sparse_categorical_accuracy: 0.8299 - val_loss: 0.4300 - val_sparse_categorical_accuracy: 0.8750\n",
      "Epoch 30/100\n",
      "157/157 [==============================] - 0s 2ms/step - loss: 0.4780 - sparse_categorical_accuracy: 0.8312 - val_loss: 0.4342 - val_sparse_categorical_accuracy: 0.8740\n",
      "Epoch 31/100\n",
      "157/157 [==============================] - 0s 2ms/step - loss: 0.4736 - sparse_categorical_accuracy: 0.8339 - val_loss: 0.4278 - val_sparse_categorical_accuracy: 0.8798\n",
      "Epoch 32/100\n",
      "157/157 [==============================] - 0s 2ms/step - loss: 0.4783 - sparse_categorical_accuracy: 0.8317 - val_loss: 0.4286 - val_sparse_categorical_accuracy: 0.8777\n",
      "Epoch 33/100\n",
      "157/157 [==============================] - 0s 2ms/step - loss: 0.4781 - sparse_categorical_accuracy: 0.8304 - val_loss: 0.4297 - val_sparse_categorical_accuracy: 0.8745\n",
      "Epoch 34/100\n",
      "157/157 [==============================] - 0s 2ms/step - loss: 0.4777 - sparse_categorical_accuracy: 0.8302 - val_loss: 0.4262 - val_sparse_categorical_accuracy: 0.8785\n",
      "Epoch 35/100\n",
      "157/157 [==============================] - 0s 2ms/step - loss: 0.4723 - sparse_categorical_accuracy: 0.8333 - val_loss: 0.4266 - val_sparse_categorical_accuracy: 0.8785\n",
      "Epoch 36/100\n",
      "157/157 [==============================] - 0s 2ms/step - loss: 0.4679 - sparse_categorical_accuracy: 0.8361 - val_loss: 0.4333 - val_sparse_categorical_accuracy: 0.8745\n",
      "Epoch 37/100\n",
      "157/157 [==============================] - 0s 2ms/step - loss: 0.4685 - sparse_categorical_accuracy: 0.8345 - val_loss: 0.4291 - val_sparse_categorical_accuracy: 0.8783\n",
      "Epoch 38/100\n",
      "157/157 [==============================] - 0s 2ms/step - loss: 0.4683 - sparse_categorical_accuracy: 0.8359 - val_loss: 0.4295 - val_sparse_categorical_accuracy: 0.8763\n",
      "Epoch 39/100\n",
      "157/157 [==============================] - 0s 2ms/step - loss: 0.4658 - sparse_categorical_accuracy: 0.8365 - val_loss: 0.4329 - val_sparse_categorical_accuracy: 0.8748\n",
      "Epoch 40/100\n",
      "157/157 [==============================] - 0s 2ms/step - loss: 0.4640 - sparse_categorical_accuracy: 0.8374 - val_loss: 0.4296 - val_sparse_categorical_accuracy: 0.8777\n",
      "Epoch 41/100\n",
      "157/157 [==============================] - 0s 2ms/step - loss: 0.4640 - sparse_categorical_accuracy: 0.8359 - val_loss: 0.4330 - val_sparse_categorical_accuracy: 0.8785\n",
      "Epoch 42/100\n",
      "157/157 [==============================] - 0s 2ms/step - loss: 0.4670 - sparse_categorical_accuracy: 0.8346 - val_loss: 0.4315 - val_sparse_categorical_accuracy: 0.8777\n",
      "Epoch 43/100\n",
      "157/157 [==============================] - 0s 2ms/step - loss: 0.4713 - sparse_categorical_accuracy: 0.8357 - val_loss: 0.4286 - val_sparse_categorical_accuracy: 0.8758\n",
      "Epoch 44/100\n",
      "157/157 [==============================] - 0s 2ms/step - loss: 0.4574 - sparse_categorical_accuracy: 0.8385 - val_loss: 0.4266 - val_sparse_categorical_accuracy: 0.8755\n",
      "Epoch 45/100\n",
      "157/157 [==============================] - 0s 2ms/step - loss: 0.4567 - sparse_categorical_accuracy: 0.8397 - val_loss: 0.4292 - val_sparse_categorical_accuracy: 0.8808\n",
      "Epoch 46/100\n",
      "157/157 [==============================] - 0s 2ms/step - loss: 0.4506 - sparse_categorical_accuracy: 0.8414 - val_loss: 0.4265 - val_sparse_categorical_accuracy: 0.8817\n",
      "Epoch 47/100\n",
      "157/157 [==============================] - 0s 2ms/step - loss: 0.4565 - sparse_categorical_accuracy: 0.8367 - val_loss: 0.4232 - val_sparse_categorical_accuracy: 0.8788\n",
      "Epoch 48/100\n",
      "157/157 [==============================] - 0s 2ms/step - loss: 0.4585 - sparse_categorical_accuracy: 0.8389 - val_loss: 0.4262 - val_sparse_categorical_accuracy: 0.8808\n",
      "Epoch 49/100\n",
      "157/157 [==============================] - 0s 2ms/step - loss: 0.4560 - sparse_categorical_accuracy: 0.8401 - val_loss: 0.4268 - val_sparse_categorical_accuracy: 0.8802\n",
      "Epoch 50/100\n",
      "157/157 [==============================] - 0s 2ms/step - loss: 0.4473 - sparse_categorical_accuracy: 0.8407 - val_loss: 0.4252 - val_sparse_categorical_accuracy: 0.8785\n",
      "Epoch 51/100\n",
      "157/157 [==============================] - 0s 2ms/step - loss: 0.4475 - sparse_categorical_accuracy: 0.8407 - val_loss: 0.4289 - val_sparse_categorical_accuracy: 0.8795\n",
      "Epoch 52/100\n",
      "157/157 [==============================] - 0s 2ms/step - loss: 0.4485 - sparse_categorical_accuracy: 0.8432 - val_loss: 0.4257 - val_sparse_categorical_accuracy: 0.8792\n",
      "Epoch 53/100\n",
      "157/157 [==============================] - 0s 2ms/step - loss: 0.4567 - sparse_categorical_accuracy: 0.8422 - val_loss: 0.4350 - val_sparse_categorical_accuracy: 0.8783\n",
      "Epoch 54/100\n",
      "157/157 [==============================] - 0s 2ms/step - loss: 0.4523 - sparse_categorical_accuracy: 0.8426 - val_loss: 0.4340 - val_sparse_categorical_accuracy: 0.8777\n",
      "Epoch 55/100\n",
      "157/157 [==============================] - 0s 2ms/step - loss: 0.4438 - sparse_categorical_accuracy: 0.8448 - val_loss: 0.4256 - val_sparse_categorical_accuracy: 0.8780\n",
      "Epoch 56/100\n",
      "157/157 [==============================] - 0s 2ms/step - loss: 0.4477 - sparse_categorical_accuracy: 0.8438 - val_loss: 0.4347 - val_sparse_categorical_accuracy: 0.8767\n",
      "Epoch 57/100\n",
      "157/157 [==============================] - 0s 2ms/step - loss: 0.4527 - sparse_categorical_accuracy: 0.8393 - val_loss: 0.4321 - val_sparse_categorical_accuracy: 0.8795\n",
      "Epoch 58/100\n",
      "157/157 [==============================] - 0s 2ms/step - loss: 0.4527 - sparse_categorical_accuracy: 0.8399 - val_loss: 0.4306 - val_sparse_categorical_accuracy: 0.8773\n",
      "Epoch 59/100\n",
      "157/157 [==============================] - 0s 2ms/step - loss: 0.4473 - sparse_categorical_accuracy: 0.8418 - val_loss: 0.4255 - val_sparse_categorical_accuracy: 0.8792\n",
      "Epoch 60/100\n",
      "157/157 [==============================] - 0s 2ms/step - loss: 0.4347 - sparse_categorical_accuracy: 0.8462 - val_loss: 0.4381 - val_sparse_categorical_accuracy: 0.8802\n",
      "Epoch 61/100\n",
      "157/157 [==============================] - 0s 2ms/step - loss: 0.4478 - sparse_categorical_accuracy: 0.8417 - val_loss: 0.4385 - val_sparse_categorical_accuracy: 0.8785\n",
      "Epoch 62/100\n",
      "157/157 [==============================] - 0s 2ms/step - loss: 0.4450 - sparse_categorical_accuracy: 0.8460 - val_loss: 0.4311 - val_sparse_categorical_accuracy: 0.8810\n",
      "Epoch 63/100\n",
      "157/157 [==============================] - 0s 2ms/step - loss: 0.4445 - sparse_categorical_accuracy: 0.8450 - val_loss: 0.4376 - val_sparse_categorical_accuracy: 0.8788\n",
      "Epoch 64/100\n",
      "157/157 [==============================] - 0s 2ms/step - loss: 0.4460 - sparse_categorical_accuracy: 0.8394 - val_loss: 0.4360 - val_sparse_categorical_accuracy: 0.8773\n",
      "Epoch 65/100\n",
      "157/157 [==============================] - 0s 2ms/step - loss: 0.4515 - sparse_categorical_accuracy: 0.8381 - val_loss: 0.4336 - val_sparse_categorical_accuracy: 0.8785\n",
      "Epoch 66/100\n",
      "157/157 [==============================] - 0s 2ms/step - loss: 0.4455 - sparse_categorical_accuracy: 0.8424 - val_loss: 0.4380 - val_sparse_categorical_accuracy: 0.8795\n",
      "Epoch 67/100\n",
      "157/157 [==============================] - 0s 2ms/step - loss: 0.4418 - sparse_categorical_accuracy: 0.8408 - val_loss: 0.4364 - val_sparse_categorical_accuracy: 0.8805\n",
      "Epoch 68/100\n",
      "157/157 [==============================] - 0s 2ms/step - loss: 0.4423 - sparse_categorical_accuracy: 0.8433 - val_loss: 0.4323 - val_sparse_categorical_accuracy: 0.8805\n",
      "Epoch 69/100\n",
      "157/157 [==============================] - 0s 2ms/step - loss: 0.4380 - sparse_categorical_accuracy: 0.8444 - val_loss: 0.4361 - val_sparse_categorical_accuracy: 0.8785\n",
      "Epoch 70/100\n",
      "157/157 [==============================] - 0s 2ms/step - loss: 0.4437 - sparse_categorical_accuracy: 0.8428 - val_loss: 0.4395 - val_sparse_categorical_accuracy: 0.8795\n",
      "Epoch 71/100\n",
      "157/157 [==============================] - 0s 2ms/step - loss: 0.4303 - sparse_categorical_accuracy: 0.8482 - val_loss: 0.4361 - val_sparse_categorical_accuracy: 0.8770\n",
      "Epoch 72/100\n",
      "157/157 [==============================] - 0s 2ms/step - loss: 0.4391 - sparse_categorical_accuracy: 0.8457 - val_loss: 0.4402 - val_sparse_categorical_accuracy: 0.8800\n",
      "Epoch 73/100\n",
      "157/157 [==============================] - 0s 2ms/step - loss: 0.4410 - sparse_categorical_accuracy: 0.8426 - val_loss: 0.4374 - val_sparse_categorical_accuracy: 0.8790\n",
      "Epoch 74/100\n",
      "157/157 [==============================] - 0s 2ms/step - loss: 0.4490 - sparse_categorical_accuracy: 0.8381 - val_loss: 0.4355 - val_sparse_categorical_accuracy: 0.8792\n",
      "Epoch 75/100\n",
      "157/157 [==============================] - 0s 2ms/step - loss: 0.4434 - sparse_categorical_accuracy: 0.8414 - val_loss: 0.4366 - val_sparse_categorical_accuracy: 0.8788\n",
      "Epoch 76/100\n",
      "157/157 [==============================] - 0s 2ms/step - loss: 0.4360 - sparse_categorical_accuracy: 0.8429 - val_loss: 0.4414 - val_sparse_categorical_accuracy: 0.8805\n",
      "Epoch 77/100\n",
      "157/157 [==============================] - 0s 2ms/step - loss: 0.4352 - sparse_categorical_accuracy: 0.8449 - val_loss: 0.4383 - val_sparse_categorical_accuracy: 0.8792\n",
      "Epoch 78/100\n",
      "157/157 [==============================] - 0s 2ms/step - loss: 0.4319 - sparse_categorical_accuracy: 0.8450 - val_loss: 0.4380 - val_sparse_categorical_accuracy: 0.8780\n",
      "Epoch 79/100\n",
      "157/157 [==============================] - 0s 2ms/step - loss: 0.4315 - sparse_categorical_accuracy: 0.8472 - val_loss: 0.4383 - val_sparse_categorical_accuracy: 0.8783\n",
      "Epoch 80/100\n",
      "157/157 [==============================] - 0s 2ms/step - loss: 0.4335 - sparse_categorical_accuracy: 0.8462 - val_loss: 0.4407 - val_sparse_categorical_accuracy: 0.8808\n",
      "Epoch 81/100\n",
      "157/157 [==============================] - 0s 2ms/step - loss: 0.4295 - sparse_categorical_accuracy: 0.8504 - val_loss: 0.4425 - val_sparse_categorical_accuracy: 0.8780\n",
      "Epoch 82/100\n",
      "157/157 [==============================] - 0s 2ms/step - loss: 0.4379 - sparse_categorical_accuracy: 0.8419 - val_loss: 0.4375 - val_sparse_categorical_accuracy: 0.8820\n",
      "Epoch 83/100\n",
      "157/157 [==============================] - 0s 2ms/step - loss: 0.4385 - sparse_categorical_accuracy: 0.8429 - val_loss: 0.4401 - val_sparse_categorical_accuracy: 0.8802\n",
      "Epoch 84/100\n",
      "157/157 [==============================] - 0s 2ms/step - loss: 0.4288 - sparse_categorical_accuracy: 0.8477 - val_loss: 0.4419 - val_sparse_categorical_accuracy: 0.8777\n",
      "Epoch 85/100\n",
      "157/157 [==============================] - 0s 2ms/step - loss: 0.4373 - sparse_categorical_accuracy: 0.8444 - val_loss: 0.4444 - val_sparse_categorical_accuracy: 0.8808\n",
      "Epoch 86/100\n",
      "157/157 [==============================] - 0s 2ms/step - loss: 0.4233 - sparse_categorical_accuracy: 0.8499 - val_loss: 0.4399 - val_sparse_categorical_accuracy: 0.8813\n",
      "Epoch 87/100\n",
      "157/157 [==============================] - 0s 2ms/step - loss: 0.4320 - sparse_categorical_accuracy: 0.8475 - val_loss: 0.4407 - val_sparse_categorical_accuracy: 0.8823\n",
      "Epoch 88/100\n",
      "157/157 [==============================] - 0s 2ms/step - loss: 0.4291 - sparse_categorical_accuracy: 0.8482 - val_loss: 0.4403 - val_sparse_categorical_accuracy: 0.8792\n",
      "Epoch 89/100\n",
      "157/157 [==============================] - 0s 2ms/step - loss: 0.4237 - sparse_categorical_accuracy: 0.8482 - val_loss: 0.4394 - val_sparse_categorical_accuracy: 0.8845\n",
      "Epoch 90/100\n",
      "157/157 [==============================] - 0s 2ms/step - loss: 0.4401 - sparse_categorical_accuracy: 0.8443 - val_loss: 0.4473 - val_sparse_categorical_accuracy: 0.8808\n",
      "Epoch 91/100\n",
      "157/157 [==============================] - 0s 2ms/step - loss: 0.4279 - sparse_categorical_accuracy: 0.8483 - val_loss: 0.4462 - val_sparse_categorical_accuracy: 0.8783\n",
      "Epoch 92/100\n",
      "157/157 [==============================] - 0s 2ms/step - loss: 0.4258 - sparse_categorical_accuracy: 0.8512 - val_loss: 0.4492 - val_sparse_categorical_accuracy: 0.8792\n",
      "Epoch 93/100\n",
      "157/157 [==============================] - 0s 2ms/step - loss: 0.4317 - sparse_categorical_accuracy: 0.8490 - val_loss: 0.4461 - val_sparse_categorical_accuracy: 0.8808\n",
      "Epoch 94/100\n",
      "157/157 [==============================] - 0s 2ms/step - loss: 0.4249 - sparse_categorical_accuracy: 0.8501 - val_loss: 0.4419 - val_sparse_categorical_accuracy: 0.8800\n",
      "Epoch 95/100\n",
      "157/157 [==============================] - 0s 2ms/step - loss: 0.4398 - sparse_categorical_accuracy: 0.8443 - val_loss: 0.4558 - val_sparse_categorical_accuracy: 0.8813\n",
      "Epoch 96/100\n",
      "157/157 [==============================] - 0s 2ms/step - loss: 0.4381 - sparse_categorical_accuracy: 0.8450 - val_loss: 0.4439 - val_sparse_categorical_accuracy: 0.8792\n",
      "Epoch 97/100\n",
      "157/157 [==============================] - 0s 2ms/step - loss: 0.4230 - sparse_categorical_accuracy: 0.8530 - val_loss: 0.4479 - val_sparse_categorical_accuracy: 0.8785\n",
      "Epoch 98/100\n",
      "157/157 [==============================] - 0s 2ms/step - loss: 0.4238 - sparse_categorical_accuracy: 0.8502 - val_loss: 0.4469 - val_sparse_categorical_accuracy: 0.8792\n",
      "Epoch 99/100\n",
      "157/157 [==============================] - 0s 2ms/step - loss: 0.4287 - sparse_categorical_accuracy: 0.8458 - val_loss: 0.4496 - val_sparse_categorical_accuracy: 0.8815\n",
      "Epoch 100/100\n",
      "157/157 [==============================] - 0s 2ms/step - loss: 0.4283 - sparse_categorical_accuracy: 0.8492 - val_loss: 0.4497 - val_sparse_categorical_accuracy: 0.8825\n"
     ]
    },
    {
     "data": {
      "text/plain": [
       "<keras.callbacks.History at 0x2e3c5084d60>"
      ]
     },
     "execution_count": 169,
     "metadata": {},
     "output_type": "execute_result"
    }
   ],
   "source": [
    "# Training the updated_model.\n",
    "new_model.fit(x_train,\n",
    "          y_train,\n",
    "          batch_size=128,\n",
    "          epochs=100,\n",
    "          verbose=1,\n",
    "          validation_data=(x_test, y_test))"
   ]
  },
  {
   "cell_type": "code",
   "execution_count": 170,
   "metadata": {},
   "outputs": [
    {
     "name": "stdout",
     "output_type": "stream",
     "text": [
      "INFO:tensorflow:Assets written to: saved_model/updated_model\\assets\n"
     ]
    }
   ],
   "source": [
    "# Saving the updated_model\n",
    "new_model.save('saved_model/updated_model')"
   ]
  },
  {
   "cell_type": "markdown",
   "metadata": {},
   "source": [
    "### Predictions on the base_model"
   ]
  },
  {
   "cell_type": "code",
   "execution_count": 171,
   "metadata": {},
   "outputs": [
    {
     "name": "stdout",
     "output_type": "stream",
     "text": [
      "7\n"
     ]
    },
    {
     "data": {
      "image/png": "[encoded data removed]",
      "text/plain": [
       "<Figure size 432x288 with 1 Axes>"
      ]
     },
     "metadata": {
      "needs_background": "light"
     },
     "output_type": "display_data"
    }
   ],
   "source": [
    "predictions = new_model.predict(x_test)\n",
    "print(np.argmax(predictions[0]))\n",
    "plt.imshow(x_test[0])\n",
    "plt.show()"
   ]
  },
  {
   "cell_type": "markdown",
   "metadata": {},
   "source": [
    "### Accuracy of the base_model"
   ]
  },
  {
   "cell_type": "code",
   "execution_count": 172,
   "metadata": {},
   "outputs": [
    {
     "data": {
      "text/plain": [
       "array([[358,   0,   3,   1,   2,   3,   1,   0,   2,   0],\n",
       "       [  0, 440,   3,   2,   0,   1,   1,   0,   3,   0],\n",
       "       [  2,   3, 375,   2,   2,   7,   6,   5,  14,   2],\n",
       "       [  0,   4,  11, 358,   0,  17,   0,  10,   6,   2],\n",
       "       [  4,   0,   3,   0, 367,   0,   6,   3,   8,  27],\n",
       "       [  7,   0,   4,  15,   7, 302,   1,   5,  25,   6],\n",
       "       [ 12,   4,  10,   0,   6,  10, 334,   0,   2,   0],\n",
       "       [  2,   7,   7,  15,   6,   0,   0, 355,   9,  10],\n",
       "       [  5,   8,   5,   9,   4,  24,   2,   4, 318,   5],\n",
       "       [  4,   0,   0,   8,  25,   5,   3,   9,  14, 323]], dtype=int64)"
      ]
     },
     "execution_count": 172,
     "metadata": {},
     "output_type": "execute_result"
    }
   ],
   "source": [
    "# Creating a multiclass confusion matrix before training.\n",
    "from sklearn.metrics import confusion_matrix\n",
    "confusion = confusion_matrix(y_test, np.argmax(predictions,axis=1))\n",
    "confusion\n"
   ]
  },
  {
   "cell_type": "code",
   "execution_count": 173,
   "metadata": {},
   "outputs": [
    {
     "name": "stdout",
     "output_type": "stream",
     "text": [
      "--- 30.675703525543213 seconds ---\n"
     ]
    }
   ],
   "source": [
    "print(\"--- %s seconds ---\" % (time.time() - start_time))"
   ]
  }
 ],
 "metadata": {
  "interpreter": {
   "hash": "4def2c97ab8a4ac20a870d28dfe7453688818c63ec73e61b3deb2eaed7804e7f"
  },
  "kernelspec": {
   "display_name": "Python 3.9.7 64-bit ('venv': venv)",
   "name": "python3"
  },
  "language_info": {
   "codemirror_mode": {
    "name": "ipython",
    "version": 3
   },
   "file_extension": ".py",
   "mimetype": "text/x-python",
   "name": "python",
   "nbconvert_exporter": "python",
   "pygments_lexer": "ipython3",
   "version": "3.9.7"
  },
  "orig_nbformat": 4
 },
 "nbformat": 4,
 "nbformat_minor": 2
}
