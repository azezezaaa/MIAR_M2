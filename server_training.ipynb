{
 "cells": [
  {
   "cell_type": "markdown",
   "metadata": {},
   "source": [
    "# Server-side for creating the base_model.\n",
    "In this jupyter notebook, we simulate how the server creates the base model."
   ]
  },
  {
   "cell_type": "markdown",
   "metadata": {},
   "source": [
    "#### Import Libraries"
   ]
  },
  {
   "cell_type": "code",
   "execution_count": 1,
   "metadata": {},
   "outputs": [],
   "source": [
    "import tensorflow as tf\n",
    "import pandas as pd\n",
    "import matplotlib.pyplot as plt\n",
    "import numpy as np\n",
    "import time\n",
    "from sklearn.metrics import confusion_matrix\n",
    "import tenseal as ts\n",
    "import pickle"
   ]
  },
  {
   "cell_type": "markdown",
   "metadata": {},
   "source": [
    "## Creating server dataset. \n",
    "The server dataset consists of all digits from 0 to 9 from the MNIST dataset. The dataset is split into 3 main parts: Server data, User A data and User B data.  \n",
    "In this section, the server dataset contains the first 20,000 MNIST images and correspoding labels."
   ]
  },
  {
   "cell_type": "code",
   "execution_count": 2,
   "metadata": {},
   "outputs": [
    {
     "name": "stdout",
     "output_type": "stream",
     "text": [
      "Number of original training examples: 60000\n",
      "Number of original test examples: 10000\n"
     ]
    }
   ],
   "source": [
    "(x_train, y_train), (x_test, y_test) = tf.keras.datasets.mnist.load_data()\n",
    "\n",
    "# Rescale the images from [0,255] to the [0.0,1.0] range.\n",
    "x_train, x_test = x_train[..., np.newaxis]/255.0, x_test[..., np.newaxis]/255.0\n",
    "\n",
    "print(\"Number of original training examples:\", len(x_train))\n",
    "print(\"Number of original test examples:\", len(x_test))"
   ]
  },
  {
   "cell_type": "code",
   "execution_count": 3,
   "metadata": {},
   "outputs": [],
   "source": [
    "# Slicing the MNIST original dataset to retain only part of the dataset.\n",
    "x_train = x_train[:20000,:,:]\n",
    "y_train = y_train[:20000]\n",
    "x_test = x_test[:4000,:,:]\n",
    "y_test  = y_test[:4000]"
   ]
  },
  {
   "cell_type": "code",
   "execution_count": 4,
   "metadata": {},
   "outputs": [
    {
     "name": "stdout",
     "output_type": "stream",
     "text": [
      "x_train: 20000\n",
      "y_train: 20000\n",
      "x_test: 4000\n",
      "y_test: 4000\n"
     ]
    }
   ],
   "source": [
    "# Length of the new dataset\n",
    "print(\"x_train:\",len(x_train))\n",
    "print(\"y_train:\",len(y_train))\n",
    "print(\"x_test:\",len(x_test))\n",
    "print(\"y_test:\",len(y_test))"
   ]
  },
  {
   "cell_type": "code",
   "execution_count": 5,
   "metadata": {},
   "outputs": [
    {
     "data": {
      "image/png": "[encoded data removed]",
      "text/plain": [
       "<Figure size 432x288 with 50 Axes>"
      ]
     },
     "metadata": {
      "needs_background": "light"
     },
     "output_type": "display_data"
    }
   ],
   "source": [
    "# Display a sample of the server dataset. \n",
    "digits = {}\n",
    "for i in range(10):\n",
    "    digits[i] = np.where(y_test==i)[0][:5]\n",
    "#print(digits)\n",
    "\n",
    "fig, ax = plt.subplots(10, 5, sharex='col', sharey='row')\n",
    "for i in range(10):\n",
    "    for j in range(5):\n",
    "        ax[i, j].imshow(x_test[digits[i][j]])"
   ]
  },
  {
   "cell_type": "markdown",
   "metadata": {},
   "source": [
    "## Base Model Architecture."
   ]
  },
  {
   "cell_type": "code",
   "execution_count": 6,
   "metadata": {},
   "outputs": [
    {
     "name": "stdout",
     "output_type": "stream",
     "text": [
      "Model: \"sequential\"\n",
      "_________________________________________________________________\n",
      "Layer (type)                 Output Shape              Param #   \n",
      "=================================================================\n",
      "flatten (Flatten)            (None, 784)               0         \n",
      "_________________________________________________________________\n",
      "dense (Dense)                (None, 10)                7840      \n",
      "_________________________________________________________________\n",
      "dropout (Dropout)            (None, 10)                0         \n",
      "_________________________________________________________________\n",
      "dense_1 (Dense)              (None, 10)                100       \n",
      "=================================================================\n",
      "Total params: 7,940\n",
      "Trainable params: 7,940\n",
      "Non-trainable params: 0\n",
      "_________________________________________________________________\n"
     ]
    }
   ],
   "source": [
    "# Model's architecture.\n",
    "model_base = tf.keras.models.Sequential([\n",
    "  tf.keras.layers.Flatten(input_shape=(28, 28)),\n",
    "  tf.keras.layers.Dense(10, activation='relu',use_bias=False, kernel_initializer='glorot_uniform'),\n",
    "  tf.keras.layers.Dropout(0.2),\n",
    "  tf.keras.layers.Dense(10, activation='softmax',use_bias=False, kernel_initializer='glorot_uniform')\n",
    "])\n",
    "\n",
    "model_base.summary()\n",
    "\n",
    "# model_base = tf.keras.models.Sequential([\n",
    "#   tf.keras.layers.Flatten(input_shape=(28, 28)),\n",
    "#   tf.keras.layers.Dense(128, activation='relu', use_bias=False, kernel_initializer='glorot_uniform'),\n",
    "#   tf.keras.layers.Dropout(0.2),\n",
    "#   tf.keras.layers.Dense(10, activation='softmax', use_bias=False, kernel_initializer='glorot_uniform')\n",
    "# ])\n",
    "\n",
    "# model_base.summary()"
   ]
  },
  {
   "cell_type": "markdown",
   "metadata": {},
   "source": [
    "## Compiling and training the base_model."
   ]
  },
  {
   "cell_type": "code",
   "execution_count": 7,
   "metadata": {},
   "outputs": [],
   "source": [
    "# Compiling the model.\n",
    "model_base.compile(\n",
    "    optimizer=tf.keras.optimizers.Adam(0.001),\n",
    "    loss=tf.keras.losses.SparseCategoricalCrossentropy(from_logits=True),\n",
    "    metrics=[tf.keras.metrics.SparseCategoricalAccuracy()],\n",
    ")"
   ]
  },
  {
   "cell_type": "code",
   "execution_count": 8,
   "metadata": {},
   "outputs": [
    {
     "name": "stdout",
     "output_type": "stream",
     "text": [
      "Epoch 1/100\n"
     ]
    },
    {
     "name": "stderr",
     "output_type": "stream",
     "text": [
      "e:\\UDM\\M2_privacyinAI\\code_final\\venv\\lib\\site-packages\\keras\\backend.py:4906: UserWarning: \"`sparse_categorical_crossentropy` received `from_logits=True`, but the `output` argument was produced by a sigmoid or softmax activation and thus does not represent logits. Was this intended?\"\n",
      "  warnings.warn(\n"
     ]
    },
    {
     "name": "stdout",
     "output_type": "stream",
     "text": [
      "157/157 [==============================] - 1s 2ms/step - loss: 1.5435 - sparse_categorical_accuracy: 0.4825 - val_loss: 0.9241 - val_sparse_categorical_accuracy: 0.7785\n",
      "Epoch 2/100\n",
      "157/157 [==============================] - 0s 2ms/step - loss: 0.9028 - sparse_categorical_accuracy: 0.7012 - val_loss: 0.6649 - val_sparse_categorical_accuracy: 0.8300\n",
      "Epoch 3/100\n",
      "157/157 [==============================] - 0s 2ms/step - loss: 0.7654 - sparse_categorical_accuracy: 0.7455 - val_loss: 0.5734 - val_sparse_categorical_accuracy: 0.8465\n",
      "Epoch 4/100\n",
      "157/157 [==============================] - 0s 2ms/step - loss: 0.7017 - sparse_categorical_accuracy: 0.7693 - val_loss: 0.5271 - val_sparse_categorical_accuracy: 0.8575\n",
      "Epoch 5/100\n",
      "157/157 [==============================] - 0s 2ms/step - loss: 0.6703 - sparse_categorical_accuracy: 0.7736 - val_loss: 0.5045 - val_sparse_categorical_accuracy: 0.8602\n",
      "Epoch 6/100\n",
      "157/157 [==============================] - 0s 2ms/step - loss: 0.6385 - sparse_categorical_accuracy: 0.7901 - val_loss: 0.4821 - val_sparse_categorical_accuracy: 0.8673\n",
      "Epoch 7/100\n",
      "157/157 [==============================] - 0s 2ms/step - loss: 0.6157 - sparse_categorical_accuracy: 0.7937 - val_loss: 0.4659 - val_sparse_categorical_accuracy: 0.8665\n",
      "Epoch 8/100\n",
      "157/157 [==============================] - 0s 2ms/step - loss: 0.6045 - sparse_categorical_accuracy: 0.7971 - val_loss: 0.4594 - val_sparse_categorical_accuracy: 0.8700\n",
      "Epoch 9/100\n",
      "157/157 [==============================] - 0s 1ms/step - loss: 0.5939 - sparse_categorical_accuracy: 0.8038 - val_loss: 0.4464 - val_sparse_categorical_accuracy: 0.8735\n",
      "Epoch 10/100\n",
      "157/157 [==============================] - 0s 1ms/step - loss: 0.5906 - sparse_categorical_accuracy: 0.8021 - val_loss: 0.4392 - val_sparse_categorical_accuracy: 0.8723\n",
      "Epoch 11/100\n",
      "157/157 [==============================] - 0s 2ms/step - loss: 0.5760 - sparse_categorical_accuracy: 0.8106 - val_loss: 0.4355 - val_sparse_categorical_accuracy: 0.8708\n",
      "Epoch 12/100\n",
      "157/157 [==============================] - 0s 2ms/step - loss: 0.5690 - sparse_categorical_accuracy: 0.8099 - val_loss: 0.4282 - val_sparse_categorical_accuracy: 0.8740\n",
      "Epoch 13/100\n",
      "157/157 [==============================] - 0s 2ms/step - loss: 0.5599 - sparse_categorical_accuracy: 0.8156 - val_loss: 0.4238 - val_sparse_categorical_accuracy: 0.8752\n",
      "Epoch 14/100\n",
      "157/157 [==============================] - 0s 2ms/step - loss: 0.5540 - sparse_categorical_accuracy: 0.8151 - val_loss: 0.4225 - val_sparse_categorical_accuracy: 0.8767\n",
      "Epoch 15/100\n",
      "157/157 [==============================] - 0s 2ms/step - loss: 0.5552 - sparse_categorical_accuracy: 0.8134 - val_loss: 0.4189 - val_sparse_categorical_accuracy: 0.8750\n",
      "Epoch 16/100\n",
      "157/157 [==============================] - 0s 2ms/step - loss: 0.5443 - sparse_categorical_accuracy: 0.8187 - val_loss: 0.4169 - val_sparse_categorical_accuracy: 0.8737\n",
      "Epoch 17/100\n",
      "157/157 [==============================] - 0s 2ms/step - loss: 0.5431 - sparse_categorical_accuracy: 0.8198 - val_loss: 0.4151 - val_sparse_categorical_accuracy: 0.8752\n",
      "Epoch 18/100\n",
      "157/157 [==============================] - 0s 2ms/step - loss: 0.5423 - sparse_categorical_accuracy: 0.8188 - val_loss: 0.4199 - val_sparse_categorical_accuracy: 0.8727\n",
      "Epoch 19/100\n",
      "157/157 [==============================] - 0s 2ms/step - loss: 0.5323 - sparse_categorical_accuracy: 0.8222 - val_loss: 0.4150 - val_sparse_categorical_accuracy: 0.8755\n",
      "Epoch 20/100\n",
      "157/157 [==============================] - 0s 2ms/step - loss: 0.5340 - sparse_categorical_accuracy: 0.8202 - val_loss: 0.4133 - val_sparse_categorical_accuracy: 0.8750\n",
      "Epoch 21/100\n",
      "157/157 [==============================] - 0s 2ms/step - loss: 0.5296 - sparse_categorical_accuracy: 0.8217 - val_loss: 0.4058 - val_sparse_categorical_accuracy: 0.8758\n",
      "Epoch 22/100\n",
      "157/157 [==============================] - 0s 2ms/step - loss: 0.5291 - sparse_categorical_accuracy: 0.8237 - val_loss: 0.4151 - val_sparse_categorical_accuracy: 0.8742\n",
      "Epoch 23/100\n",
      "157/157 [==============================] - 0s 2ms/step - loss: 0.5314 - sparse_categorical_accuracy: 0.8227 - val_loss: 0.4072 - val_sparse_categorical_accuracy: 0.8767\n",
      "Epoch 24/100\n",
      "157/157 [==============================] - 0s 2ms/step - loss: 0.5217 - sparse_categorical_accuracy: 0.8265 - val_loss: 0.4046 - val_sparse_categorical_accuracy: 0.8773\n",
      "Epoch 25/100\n",
      "157/157 [==============================] - 0s 2ms/step - loss: 0.5231 - sparse_categorical_accuracy: 0.8238 - val_loss: 0.4059 - val_sparse_categorical_accuracy: 0.8795\n",
      "Epoch 26/100\n",
      "157/157 [==============================] - 0s 2ms/step - loss: 0.5128 - sparse_categorical_accuracy: 0.8270 - val_loss: 0.4093 - val_sparse_categorical_accuracy: 0.8748\n",
      "Epoch 27/100\n",
      "157/157 [==============================] - 0s 2ms/step - loss: 0.5135 - sparse_categorical_accuracy: 0.8292 - val_loss: 0.4023 - val_sparse_categorical_accuracy: 0.8767\n",
      "Epoch 28/100\n",
      "157/157 [==============================] - 0s 2ms/step - loss: 0.5070 - sparse_categorical_accuracy: 0.8316 - val_loss: 0.4052 - val_sparse_categorical_accuracy: 0.8767\n",
      "Epoch 29/100\n",
      "157/157 [==============================] - 0s 2ms/step - loss: 0.5179 - sparse_categorical_accuracy: 0.8275 - val_loss: 0.4050 - val_sparse_categorical_accuracy: 0.8802\n",
      "Epoch 30/100\n",
      "157/157 [==============================] - 0s 2ms/step - loss: 0.5158 - sparse_categorical_accuracy: 0.8286 - val_loss: 0.4102 - val_sparse_categorical_accuracy: 0.8795\n",
      "Epoch 31/100\n",
      "157/157 [==============================] - 0s 2ms/step - loss: 0.5092 - sparse_categorical_accuracy: 0.8309 - val_loss: 0.4077 - val_sparse_categorical_accuracy: 0.8795\n",
      "Epoch 32/100\n",
      "157/157 [==============================] - 0s 2ms/step - loss: 0.5065 - sparse_categorical_accuracy: 0.8314 - val_loss: 0.4032 - val_sparse_categorical_accuracy: 0.8832\n",
      "Epoch 33/100\n",
      "157/157 [==============================] - 0s 2ms/step - loss: 0.4997 - sparse_categorical_accuracy: 0.8349 - val_loss: 0.4081 - val_sparse_categorical_accuracy: 0.8815\n",
      "Epoch 34/100\n",
      "157/157 [==============================] - 0s 2ms/step - loss: 0.4984 - sparse_categorical_accuracy: 0.8345 - val_loss: 0.4014 - val_sparse_categorical_accuracy: 0.8817\n",
      "Epoch 35/100\n",
      "157/157 [==============================] - 0s 2ms/step - loss: 0.5070 - sparse_categorical_accuracy: 0.8277 - val_loss: 0.4067 - val_sparse_categorical_accuracy: 0.8785\n",
      "Epoch 36/100\n",
      "157/157 [==============================] - 0s 2ms/step - loss: 0.4994 - sparse_categorical_accuracy: 0.8352 - val_loss: 0.4091 - val_sparse_categorical_accuracy: 0.8785\n",
      "Epoch 37/100\n",
      "157/157 [==============================] - 0s 2ms/step - loss: 0.4950 - sparse_categorical_accuracy: 0.8346 - val_loss: 0.4045 - val_sparse_categorical_accuracy: 0.8817\n",
      "Epoch 38/100\n",
      "157/157 [==============================] - 0s 2ms/step - loss: 0.5031 - sparse_categorical_accuracy: 0.8328 - val_loss: 0.4076 - val_sparse_categorical_accuracy: 0.8820\n",
      "Epoch 39/100\n",
      "157/157 [==============================] - 0s 2ms/step - loss: 0.4969 - sparse_categorical_accuracy: 0.8346 - val_loss: 0.4025 - val_sparse_categorical_accuracy: 0.8813\n",
      "Epoch 40/100\n",
      "157/157 [==============================] - 0s 2ms/step - loss: 0.4845 - sparse_categorical_accuracy: 0.8386 - val_loss: 0.4048 - val_sparse_categorical_accuracy: 0.8830\n",
      "Epoch 41/100\n",
      "157/157 [==============================] - 0s 2ms/step - loss: 0.4890 - sparse_categorical_accuracy: 0.8358 - val_loss: 0.4093 - val_sparse_categorical_accuracy: 0.8838\n",
      "Epoch 42/100\n",
      "157/157 [==============================] - 0s 2ms/step - loss: 0.4958 - sparse_categorical_accuracy: 0.8355 - val_loss: 0.4069 - val_sparse_categorical_accuracy: 0.8823\n",
      "Epoch 43/100\n",
      "157/157 [==============================] - 0s 2ms/step - loss: 0.4844 - sparse_categorical_accuracy: 0.8382 - val_loss: 0.4083 - val_sparse_categorical_accuracy: 0.8820\n",
      "Epoch 44/100\n",
      "157/157 [==============================] - 0s 2ms/step - loss: 0.4922 - sparse_categorical_accuracy: 0.8375 - val_loss: 0.4047 - val_sparse_categorical_accuracy: 0.8810\n",
      "Epoch 45/100\n",
      "157/157 [==============================] - 0s 2ms/step - loss: 0.4903 - sparse_categorical_accuracy: 0.8335 - val_loss: 0.4082 - val_sparse_categorical_accuracy: 0.8792\n",
      "Epoch 46/100\n",
      "157/157 [==============================] - 0s 2ms/step - loss: 0.4902 - sparse_categorical_accuracy: 0.8336 - val_loss: 0.4039 - val_sparse_categorical_accuracy: 0.8830\n",
      "Epoch 47/100\n",
      "157/157 [==============================] - 0s 2ms/step - loss: 0.4862 - sparse_categorical_accuracy: 0.8372 - val_loss: 0.4069 - val_sparse_categorical_accuracy: 0.8780\n",
      "Epoch 48/100\n",
      "157/157 [==============================] - 0s 2ms/step - loss: 0.4747 - sparse_categorical_accuracy: 0.8425 - val_loss: 0.4039 - val_sparse_categorical_accuracy: 0.8820\n",
      "Epoch 49/100\n",
      "157/157 [==============================] - 0s 2ms/step - loss: 0.4857 - sparse_categorical_accuracy: 0.8383 - val_loss: 0.4037 - val_sparse_categorical_accuracy: 0.8835\n",
      "Epoch 50/100\n",
      "157/157 [==============================] - 0s 2ms/step - loss: 0.4800 - sparse_categorical_accuracy: 0.8374 - val_loss: 0.4130 - val_sparse_categorical_accuracy: 0.8773\n",
      "Epoch 51/100\n",
      "157/157 [==============================] - 0s 2ms/step - loss: 0.4811 - sparse_categorical_accuracy: 0.8390 - val_loss: 0.4102 - val_sparse_categorical_accuracy: 0.8785\n",
      "Epoch 52/100\n",
      "157/157 [==============================] - 0s 2ms/step - loss: 0.4766 - sparse_categorical_accuracy: 0.8418 - val_loss: 0.4075 - val_sparse_categorical_accuracy: 0.8802\n",
      "Epoch 53/100\n",
      "157/157 [==============================] - 0s 2ms/step - loss: 0.4767 - sparse_categorical_accuracy: 0.8401 - val_loss: 0.4134 - val_sparse_categorical_accuracy: 0.8773\n",
      "Epoch 54/100\n",
      "157/157 [==============================] - 0s 2ms/step - loss: 0.4787 - sparse_categorical_accuracy: 0.8388 - val_loss: 0.4134 - val_sparse_categorical_accuracy: 0.8783\n",
      "Epoch 55/100\n",
      "157/157 [==============================] - 0s 2ms/step - loss: 0.4784 - sparse_categorical_accuracy: 0.8369 - val_loss: 0.4052 - val_sparse_categorical_accuracy: 0.8790\n",
      "Epoch 56/100\n",
      "157/157 [==============================] - 0s 2ms/step - loss: 0.4695 - sparse_categorical_accuracy: 0.8410 - val_loss: 0.4014 - val_sparse_categorical_accuracy: 0.8830\n",
      "Epoch 57/100\n",
      "157/157 [==============================] - 0s 2ms/step - loss: 0.4674 - sparse_categorical_accuracy: 0.8429 - val_loss: 0.4110 - val_sparse_categorical_accuracy: 0.8745\n",
      "Epoch 58/100\n",
      "157/157 [==============================] - 0s 2ms/step - loss: 0.4777 - sparse_categorical_accuracy: 0.8398 - val_loss: 0.4104 - val_sparse_categorical_accuracy: 0.8795\n",
      "Epoch 59/100\n",
      "157/157 [==============================] - 0s 2ms/step - loss: 0.4709 - sparse_categorical_accuracy: 0.8423 - val_loss: 0.4130 - val_sparse_categorical_accuracy: 0.8810\n",
      "Epoch 60/100\n",
      "157/157 [==============================] - 0s 2ms/step - loss: 0.4690 - sparse_categorical_accuracy: 0.8411 - val_loss: 0.4079 - val_sparse_categorical_accuracy: 0.8825\n",
      "Epoch 61/100\n",
      "157/157 [==============================] - 0s 2ms/step - loss: 0.4685 - sparse_categorical_accuracy: 0.8411 - val_loss: 0.4104 - val_sparse_categorical_accuracy: 0.8820\n",
      "Epoch 62/100\n",
      "157/157 [==============================] - 0s 2ms/step - loss: 0.4692 - sparse_categorical_accuracy: 0.8430 - val_loss: 0.4115 - val_sparse_categorical_accuracy: 0.8813\n",
      "Epoch 63/100\n",
      "157/157 [==============================] - 0s 2ms/step - loss: 0.4722 - sparse_categorical_accuracy: 0.8414 - val_loss: 0.4100 - val_sparse_categorical_accuracy: 0.8805\n",
      "Epoch 64/100\n",
      "157/157 [==============================] - 0s 2ms/step - loss: 0.4636 - sparse_categorical_accuracy: 0.8429 - val_loss: 0.4131 - val_sparse_categorical_accuracy: 0.8827\n",
      "Epoch 65/100\n",
      "157/157 [==============================] - 0s 2ms/step - loss: 0.4656 - sparse_categorical_accuracy: 0.8475 - val_loss: 0.4102 - val_sparse_categorical_accuracy: 0.8790\n",
      "Epoch 66/100\n",
      "157/157 [==============================] - 0s 2ms/step - loss: 0.4693 - sparse_categorical_accuracy: 0.8419 - val_loss: 0.4124 - val_sparse_categorical_accuracy: 0.8820\n",
      "Epoch 67/100\n",
      "157/157 [==============================] - 0s 2ms/step - loss: 0.4684 - sparse_categorical_accuracy: 0.8444 - val_loss: 0.4136 - val_sparse_categorical_accuracy: 0.8805\n",
      "Epoch 68/100\n",
      "157/157 [==============================] - 0s 2ms/step - loss: 0.4604 - sparse_categorical_accuracy: 0.8440 - val_loss: 0.4130 - val_sparse_categorical_accuracy: 0.8850\n",
      "Epoch 69/100\n",
      "157/157 [==============================] - 0s 2ms/step - loss: 0.4672 - sparse_categorical_accuracy: 0.8432 - val_loss: 0.4140 - val_sparse_categorical_accuracy: 0.8808\n",
      "Epoch 70/100\n",
      "157/157 [==============================] - 0s 2ms/step - loss: 0.4719 - sparse_categorical_accuracy: 0.8394 - val_loss: 0.4186 - val_sparse_categorical_accuracy: 0.8802\n",
      "Epoch 71/100\n",
      "157/157 [==============================] - 0s 2ms/step - loss: 0.4671 - sparse_categorical_accuracy: 0.8418 - val_loss: 0.4154 - val_sparse_categorical_accuracy: 0.8788\n",
      "Epoch 72/100\n",
      "157/157 [==============================] - 0s 2ms/step - loss: 0.4643 - sparse_categorical_accuracy: 0.8451 - val_loss: 0.4162 - val_sparse_categorical_accuracy: 0.8773\n",
      "Epoch 73/100\n",
      "157/157 [==============================] - 0s 2ms/step - loss: 0.4594 - sparse_categorical_accuracy: 0.8446 - val_loss: 0.4135 - val_sparse_categorical_accuracy: 0.8825\n",
      "Epoch 74/100\n",
      "157/157 [==============================] - 0s 2ms/step - loss: 0.4586 - sparse_categorical_accuracy: 0.8435 - val_loss: 0.4162 - val_sparse_categorical_accuracy: 0.8815\n",
      "Epoch 75/100\n",
      "157/157 [==============================] - 0s 2ms/step - loss: 0.4631 - sparse_categorical_accuracy: 0.8404 - val_loss: 0.4162 - val_sparse_categorical_accuracy: 0.8825\n",
      "Epoch 76/100\n",
      "157/157 [==============================] - 0s 2ms/step - loss: 0.4593 - sparse_categorical_accuracy: 0.8443 - val_loss: 0.4201 - val_sparse_categorical_accuracy: 0.8810\n",
      "Epoch 77/100\n",
      "157/157 [==============================] - 0s 2ms/step - loss: 0.4669 - sparse_categorical_accuracy: 0.8416 - val_loss: 0.4175 - val_sparse_categorical_accuracy: 0.8795\n",
      "Epoch 78/100\n",
      "157/157 [==============================] - 0s 2ms/step - loss: 0.4627 - sparse_categorical_accuracy: 0.8436 - val_loss: 0.4196 - val_sparse_categorical_accuracy: 0.8802\n",
      "Epoch 79/100\n",
      "157/157 [==============================] - 0s 2ms/step - loss: 0.4522 - sparse_categorical_accuracy: 0.8457 - val_loss: 0.4179 - val_sparse_categorical_accuracy: 0.8810\n",
      "Epoch 80/100\n",
      "157/157 [==============================] - 0s 2ms/step - loss: 0.4629 - sparse_categorical_accuracy: 0.8431 - val_loss: 0.4206 - val_sparse_categorical_accuracy: 0.8813\n",
      "Epoch 81/100\n",
      "157/157 [==============================] - 0s 2ms/step - loss: 0.4600 - sparse_categorical_accuracy: 0.8444 - val_loss: 0.4238 - val_sparse_categorical_accuracy: 0.8773\n",
      "Epoch 82/100\n",
      "157/157 [==============================] - 0s 2ms/step - loss: 0.4614 - sparse_categorical_accuracy: 0.8436 - val_loss: 0.4203 - val_sparse_categorical_accuracy: 0.8783\n",
      "Epoch 83/100\n",
      "157/157 [==============================] - 0s 2ms/step - loss: 0.4577 - sparse_categorical_accuracy: 0.8435 - val_loss: 0.4240 - val_sparse_categorical_accuracy: 0.8767\n",
      "Epoch 84/100\n",
      "157/157 [==============================] - 0s 2ms/step - loss: 0.4521 - sparse_categorical_accuracy: 0.8468 - val_loss: 0.4261 - val_sparse_categorical_accuracy: 0.8763\n",
      "Epoch 85/100\n",
      "157/157 [==============================] - 0s 2ms/step - loss: 0.4547 - sparse_categorical_accuracy: 0.8456 - val_loss: 0.4215 - val_sparse_categorical_accuracy: 0.8763\n",
      "Epoch 86/100\n",
      "157/157 [==============================] - 0s 2ms/step - loss: 0.4668 - sparse_categorical_accuracy: 0.8400 - val_loss: 0.4224 - val_sparse_categorical_accuracy: 0.8775\n",
      "Epoch 87/100\n",
      "157/157 [==============================] - 0s 2ms/step - loss: 0.4545 - sparse_categorical_accuracy: 0.8454 - val_loss: 0.4232 - val_sparse_categorical_accuracy: 0.8773\n",
      "Epoch 88/100\n",
      "157/157 [==============================] - 0s 2ms/step - loss: 0.4596 - sparse_categorical_accuracy: 0.8453 - val_loss: 0.4276 - val_sparse_categorical_accuracy: 0.8770\n",
      "Epoch 89/100\n",
      "157/157 [==============================] - 0s 2ms/step - loss: 0.4589 - sparse_categorical_accuracy: 0.8449 - val_loss: 0.4205 - val_sparse_categorical_accuracy: 0.8777\n",
      "Epoch 90/100\n",
      "157/157 [==============================] - 0s 2ms/step - loss: 0.4579 - sparse_categorical_accuracy: 0.8444 - val_loss: 0.4226 - val_sparse_categorical_accuracy: 0.8770\n",
      "Epoch 91/100\n",
      "157/157 [==============================] - 0s 2ms/step - loss: 0.4572 - sparse_categorical_accuracy: 0.8460 - val_loss: 0.4275 - val_sparse_categorical_accuracy: 0.8748\n",
      "Epoch 92/100\n",
      "157/157 [==============================] - 0s 2ms/step - loss: 0.4566 - sparse_categorical_accuracy: 0.8422 - val_loss: 0.4291 - val_sparse_categorical_accuracy: 0.8755\n",
      "Epoch 93/100\n",
      "157/157 [==============================] - 0s 2ms/step - loss: 0.4538 - sparse_categorical_accuracy: 0.8450 - val_loss: 0.4364 - val_sparse_categorical_accuracy: 0.8742\n",
      "Epoch 94/100\n",
      "157/157 [==============================] - 0s 2ms/step - loss: 0.4524 - sparse_categorical_accuracy: 0.8454 - val_loss: 0.4261 - val_sparse_categorical_accuracy: 0.8783\n",
      "Epoch 95/100\n",
      "157/157 [==============================] - 0s 2ms/step - loss: 0.4424 - sparse_categorical_accuracy: 0.8510 - val_loss: 0.4275 - val_sparse_categorical_accuracy: 0.8790\n",
      "Epoch 96/100\n",
      "157/157 [==============================] - 0s 2ms/step - loss: 0.4632 - sparse_categorical_accuracy: 0.8398 - val_loss: 0.4266 - val_sparse_categorical_accuracy: 0.8783\n",
      "Epoch 97/100\n",
      "157/157 [==============================] - 0s 2ms/step - loss: 0.4464 - sparse_categorical_accuracy: 0.8480 - val_loss: 0.4244 - val_sparse_categorical_accuracy: 0.8805\n",
      "Epoch 98/100\n",
      "157/157 [==============================] - 0s 2ms/step - loss: 0.4534 - sparse_categorical_accuracy: 0.8447 - val_loss: 0.4281 - val_sparse_categorical_accuracy: 0.8788\n",
      "Epoch 99/100\n",
      "157/157 [==============================] - 0s 2ms/step - loss: 0.4500 - sparse_categorical_accuracy: 0.8457 - val_loss: 0.4331 - val_sparse_categorical_accuracy: 0.8755\n",
      "Epoch 100/100\n",
      "157/157 [==============================] - 0s 2ms/step - loss: 0.4502 - sparse_categorical_accuracy: 0.8473 - val_loss: 0.4292 - val_sparse_categorical_accuracy: 0.8770\n"
     ]
    },
    {
     "data": {
      "text/plain": [
       "<keras.callbacks.History at 0x23749b7ab50>"
      ]
     },
     "execution_count": 8,
     "metadata": {},
     "output_type": "execute_result"
    }
   ],
   "source": [
    "# Training the base_model.\n",
    "model_base.fit(x_train,\n",
    "          y_train,\n",
    "          batch_size=128,\n",
    "          epochs=100,\n",
    "          verbose=1,\n",
    "          validation_data=(x_test, y_test))"
   ]
  },
  {
   "cell_type": "code",
   "execution_count": 9,
   "metadata": {},
   "outputs": [
    {
     "name": "stdout",
     "output_type": "stream",
     "text": [
      "flatten 0\n",
      "dense 1\n",
      "dropout 0\n",
      "dense_1 1\n"
     ]
    }
   ],
   "source": [
    "# Checking which layers have weights & bias.\n",
    "for layer in model_base.layers:\n",
    "    print(layer.name, len(layer.weights))"
   ]
  },
  {
   "cell_type": "code",
   "execution_count": 10,
   "metadata": {},
   "outputs": [
    {
     "name": "stdout",
     "output_type": "stream",
     "text": [
      "INFO:tensorflow:Assets written to: saved_model/base_model\\assets\n"
     ]
    }
   ],
   "source": [
    "# Saving the model.\n",
    "model_base.save('saved_model/base_model')\n"
   ]
  },
  {
   "cell_type": "markdown",
   "metadata": {},
   "source": [
    "## Predictions on the base_model"
   ]
  },
  {
   "cell_type": "code",
   "execution_count": 11,
   "metadata": {},
   "outputs": [
    {
     "name": "stdout",
     "output_type": "stream",
     "text": [
      "7\n"
     ]
    },
    {
     "data": {
      "image/png": "[encoded data removed]",
      "text/plain": [
       "<Figure size 432x288 with 1 Axes>"
      ]
     },
     "metadata": {
      "needs_background": "light"
     },
     "output_type": "display_data"
    }
   ],
   "source": [
    "predictions = model_base.predict(x_test)\n",
    "print(np.argmax(predictions[0]))\n",
    "plt.imshow(x_test[0])\n",
    "plt.show()"
   ]
  },
  {
   "cell_type": "markdown",
   "metadata": {},
   "source": [
    "## Accuracy of the base_model"
   ]
  },
  {
   "cell_type": "code",
   "execution_count": 12,
   "metadata": {},
   "outputs": [
    {
     "data": {
      "text/plain": [
       "array([[354,   0,   7,   2,   0,   2,   2,   0,   3,   0],\n",
       "       [  0, 439,   1,   3,   0,   1,   4,   0,   2,   0],\n",
       "       [  6,   4, 363,  15,   2,   0,   6,   9,  13,   0],\n",
       "       [  2,   0,   8, 358,   0,  22,   0,  13,   3,   2],\n",
       "       [  0,   0,   2,   2, 365,   1,  15,   2,   3,  28],\n",
       "       [  8,   1,   3,  18,   4, 304,   3,   7,  16,   8],\n",
       "       [  5,   3,   9,   1,  12,  11, 335,   0,   2,   0],\n",
       "       [  0,  10,  10,   8,   8,   0,   1, 343,   2,  29],\n",
       "       [  4,   8,   9,  11,   4,  18,   4,   6, 316,   4],\n",
       "       [  3,   6,   1,  10,  21,   1,   0,   7,  11, 331]], dtype=int64)"
      ]
     },
     "execution_count": 12,
     "metadata": {},
     "output_type": "execute_result"
    }
   ],
   "source": [
    "# Creating a multiclass confusion matrix before training.\n",
    "confusion = confusion_matrix(y_test, np.argmax(predictions,axis=1))\n",
    "confusion"
   ]
  },
  {
   "cell_type": "markdown",
   "metadata": {},
   "source": [
    "## Creating CKKS context/keys"
   ]
  },
  {
   "cell_type": "code",
   "execution_count": 13,
   "metadata": {},
   "outputs": [],
   "source": [
    "# Setup TenSEAL context.\n",
    "context = ts.context(\n",
    "            ts.SCHEME_TYPE.CKKS,\n",
    "            poly_modulus_degree=8192,\n",
    "            coeff_mod_bit_sizes=[60, 40, 40, 60]\n",
    "          )\n",
    "          \n",
    "context.generate_galois_keys()\n",
    "context.global_scale = 2**40"
   ]
  },
  {
   "cell_type": "code",
   "execution_count": 14,
   "metadata": {},
   "outputs": [
    {
     "name": "stdout",
     "output_type": "stream",
     "text": [
      "Is the context private? Yes\n"
     ]
    }
   ],
   "source": [
    "# Check is context is private.\n",
    "print(\"Is the context private?\", (\"Yes\" if context.is_private() else \"No\"))"
   ]
  },
  {
   "cell_type": "code",
   "execution_count": 15,
   "metadata": {},
   "outputs": [],
   "source": [
    "# Creating a copy of the context to share with the server. Ideally, the secret key should be drop.\n",
    "\n",
    "public_context = context\n",
    "#sk = context.secret_key()\n",
    "#public_context.make_context_public()\n",
    "\n",
    "# Context and ciphertext serialization\n",
    "server_context = public_context.serialize(save_secret_key=True)"
   ]
  },
  {
   "cell_type": "code",
   "execution_count": 16,
   "metadata": {},
   "outputs": [
    {
     "name": "stdout",
     "output_type": "stream",
     "text": [
      "Is the context private? Yes\n"
     ]
    }
   ],
   "source": [
    "# Check is context is private.\n",
    "print(\"Is the context private?\", (\"Yes\" if context.is_private() else \"No\"))"
   ]
  },
  {
   "cell_type": "code",
   "execution_count": 17,
   "metadata": {},
   "outputs": [],
   "source": [
    "key_query = {\n",
    "    \"context\" : server_context\n",
    "}"
   ]
  },
  {
   "cell_type": "code",
   "execution_count": 18,
   "metadata": {},
   "outputs": [],
   "source": [
    "input_dictionary = (key_query)\n",
    "file = open('key_query', 'wb')\n",
    "pickle.dump(input_dictionary, file)\n",
    "file.close()"
   ]
  }
 ],
 "metadata": {
  "interpreter": {
   "hash": "4def2c97ab8a4ac20a870d28dfe7453688818c63ec73e61b3deb2eaed7804e7f"
  },
  "kernelspec": {
   "display_name": "Python 3.9.7 64-bit ('venv': venv)",
   "name": "python3"
  },
  "language_info": {
   "codemirror_mode": {
    "name": "ipython",
    "version": 3
   },
   "file_extension": ".py",
   "mimetype": "text/x-python",
   "name": "python",
   "nbconvert_exporter": "python",
   "pygments_lexer": "ipython3",
   "version": "3.9.7"
  },
  "orig_nbformat": 4
 },
 "nbformat": 4,
 "nbformat_minor": 2
}
